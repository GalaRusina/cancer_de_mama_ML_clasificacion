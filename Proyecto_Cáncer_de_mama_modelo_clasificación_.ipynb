{
  "nbformat": 4,
  "nbformat_minor": 0,
  "metadata": {
    "colab": {
      "provenance": [],
      "collapsed_sections": [],
      "toc_visible": true,
      "include_colab_link": true
    },
    "kernelspec": {
      "name": "python3",
      "display_name": "Python 3"
    },
    "language_info": {
      "name": "python"
    }
  },
  "cells": [
    {
      "cell_type": "markdown",
      "metadata": {
        "id": "view-in-github",
        "colab_type": "text"
      },
      "source": [
        "<a href=\"https://colab.research.google.com/github/GalaRusina/cancer_de_mama_ML_clasificacion/blob/main/Proyecto_C%C3%A1ncer_de_mama_modelo_clasificaci%C3%B3n_.ipynb\" target=\"_parent\"><img src=\"https://colab.research.google.com/assets/colab-badge.svg\" alt=\"Open In Colab\"/></a>"
      ]
    },
    {
      "cell_type": "markdown",
      "source": [
        "##Contexto\n",
        "\n",
        "**Contexto**\n",
        "\n",
        "En 2020, en todo el mundo se diagnosticó cáncer de mama a 2,3 millones de mujeres, y 685 000 fallecieron por esa enfermedad. A fines del mismo año, 7,8 millones de mujeres a las que en los anteriores cinco años se les había diagnosticado cáncer de mama seguían con vida, lo que hace que este cáncer sea el de mayor prevalencia en el mundo. \n",
        "\n",
        "Se estima que, a nivel mundial, los años de vida perdidos ajustados en función de la discapacidad (AVAD) en mujeres con cáncer de mama superan a los debidos a cualquier otro tipo de cáncer. \n",
        "\n",
        "El cáncer de mama afecta a las mujeres de cualquier edad después de la pubertad en todos los países del mundo, pero las tasas aumentan en su vida adulta. \n",
        "\n",
        "Entre las décadas de 1930  y 1970, la mortalidad por cáncer de mama mostró pocos cambios. Las mejoras en la supervivencia empezaron en los años 1980 en países que contaban con programas de detección precoz combinados con diferentes tipos de terapias para contener la enfermedad invasiva.\n",
        "\n",
        "**Descripción**\n",
        "\n",
        "El cáncer de mama se origina en las células del revestimiento (epitelio) de los conductos (85%) o lóbulos (15%) del tejido glandular de los senos. Al comienzo, el tumor canceroso está confinado en el conducto o lóbulo (in situ), donde generalmente no causa síntomas y tiene un mínimo potencial de diseminación (metástasis). \n",
        "\n",
        "Con el paso del tiempo, este cáncer in situ (estadio 0) puede progresar e invadir el tejido mamario circundante (cáncer de mama invasivo), y a continuación propagarse a los ganglios linfáticos cercanos (metástasis regional) u a otros órganos del organismo (metástasis distante). Cuando una mujer muere de cáncer de mama, es como consecuencia de la metástasis generalizada.  \n",
        "\n",
        "El tratamiento del cáncer de mama puede ser muy eficaz, en particular cuando la enfermedad se detecta temprano. A menudo el tratamiento consiste en una combinación de extirpación quirúrgica, radioterapia y medicación (terapia hormonal, quimioterapia y/o terapia biológica dirigida) para tratar el cáncer microscópico que se ha propagado del tumor mamario a través de la sangre. Por consiguiente, ese tratamiento, que puede impedir la progresión y diseminación del cáncer, salva vidas.\n",
        "\n",
        "\n",
        "El cáncer de mama es el tipo de cáncer más común, con más de 2,2 millones de casos en 2020.\n",
        "\n",
        "Cerca de una de cada 12 mujeres enfermarán de cáncer de mama a lo largo de su vida. El cáncer de mama es la principal causa de mortalidad en las mujeres. En 2020, alrededor de 685 000 mujeres fallecieron como consecuencia de esa enfermedad.\n",
        "\n",
        "La mayoría de los casos de cáncer de mama y de las muertes por esa enfermedad se registran en países de ingresos bajos y medianos.\n",
        "\n",
        "Las disparidades del cáncer de mama entre los países de ingresos elevados y los de ingresos bajos y medianos son considerables. La supervivencia al cáncer de mama a cinco años excede del 90% en los primeros países, mientras que en la India y Sudáfrica es del 66% y el 40%, respectivamente.\n",
        "\n",
        "El mayor porcentaje normalizado por edades[1] de defunciones por cáncer de mama corresponde a África y Polinesia. En el África subsahariana, la mitad de las muertes por cáncer de mama se produce en mujeres menores de 50 años de edad.\n",
        "\n",
        "Desde 1980 se han realizado importantes avances en el tratamiento del cáncer de mama; entre el decenio de 1980 y 2020, en los países de ingresos elevados la mortalidad por cáncer de mama normalizada por edades se redujo en un 40%. En los países de ingresos bajos y medianos esas mejoras todavía no se han logrado.\n",
        "\n",
        "La mejora de los resultados es fruto de la combinación de la detección precoz y las terapias eficaces, basadas en cirugía, radioterapia y farmacoterapia.     \n"
      ],
      "metadata": {
        "id": "xyCprU98kLS3"
      }
    },
    {
      "cell_type": "markdown",
      "source": [
        "**Obtención de datos**\n",
        "\n",
        "This breast cancer databases was obtained from the University of Wisconsin\n",
        "   Hospitals, Madison from Dr. William H. Wolberg.  \n",
        "\n"
      ],
      "metadata": {
        "id": "GQWtrAdxkzxs"
      }
    },
    {
      "cell_type": "markdown",
      "source": [
        "## Cargamos los datos y creamos nuestro dataframe"
      ],
      "metadata": {
        "id": "UEH5y1_QPCeO"
      }
    },
    {
      "cell_type": "code",
      "source": [
        "import pandas as pd\n",
        "import numpy as np"
      ],
      "metadata": {
        "id": "o5c_8X6Y9Ttc"
      },
      "execution_count": 1,
      "outputs": []
    },
    {
      "cell_type": "code",
      "source": [
        "\n",
        "\n",
        "datos = pd.read_csv('https://raw.githubusercontent.com/nodd3r/recursos/main/datasets/cancer/breast-cancer-wisconsin.data.txt', sep=',')\n",
        "datos.head(10)\n"
      ],
      "metadata": {
        "id": "AWdOUbLFlgiO",
        "colab": {
          "base_uri": "https://localhost:8080/",
          "height": 363
        },
        "outputId": "e292d804-dbc8-4c93-cf58-c96bcbce0314"
      },
      "execution_count": 2,
      "outputs": [
        {
          "output_type": "execute_result",
          "data": {
            "text/plain": [
              "        ID  Clump Thickness  Uniformity of Cell Size  \\\n",
              "0  1000025                5                        1   \n",
              "1  1002945                5                        4   \n",
              "2  1015425                3                        1   \n",
              "3  1016277                6                        8   \n",
              "4  1017023                4                        1   \n",
              "5  1017122                8                       10   \n",
              "6  1018099                1                        1   \n",
              "7  1018561                2                        1   \n",
              "8  1033078                2                        1   \n",
              "9  1033078                4                        2   \n",
              "\n",
              "   Uniformity of Cell Shape  Marginal Adhesion  Single Epithelial Cell Size  \\\n",
              "0                         1                  1                            2   \n",
              "1                         4                  5                            7   \n",
              "2                         1                  1                            2   \n",
              "3                         8                  1                            3   \n",
              "4                         1                  3                            2   \n",
              "5                        10                  8                            7   \n",
              "6                         1                  1                            2   \n",
              "7                         2                  1                            2   \n",
              "8                         1                  1                            2   \n",
              "9                         1                  1                            2   \n",
              "\n",
              "  Bare Nuclei  Bland Chromatin  Normal Nucleoli  Mitoses  Class  \n",
              "0           1                3                1        1      2  \n",
              "1          10                3                2        1      2  \n",
              "2           2                3                1        1      2  \n",
              "3           4                3                7        1      2  \n",
              "4           1                3                1        1      2  \n",
              "5          10                9                7        1      4  \n",
              "6          10                3                1        1      2  \n",
              "7           1                3                1        1      2  \n",
              "8           1                1                1        5      2  \n",
              "9           1                2                1        1      2  "
            ],
            "text/html": [
              "\n",
              "  <div id=\"df-9e48b1e8-e644-4da9-8dee-19923984bfd0\">\n",
              "    <div class=\"colab-df-container\">\n",
              "      <div>\n",
              "<style scoped>\n",
              "    .dataframe tbody tr th:only-of-type {\n",
              "        vertical-align: middle;\n",
              "    }\n",
              "\n",
              "    .dataframe tbody tr th {\n",
              "        vertical-align: top;\n",
              "    }\n",
              "\n",
              "    .dataframe thead th {\n",
              "        text-align: right;\n",
              "    }\n",
              "</style>\n",
              "<table border=\"1\" class=\"dataframe\">\n",
              "  <thead>\n",
              "    <tr style=\"text-align: right;\">\n",
              "      <th></th>\n",
              "      <th>ID</th>\n",
              "      <th>Clump Thickness</th>\n",
              "      <th>Uniformity of Cell Size</th>\n",
              "      <th>Uniformity of Cell Shape</th>\n",
              "      <th>Marginal Adhesion</th>\n",
              "      <th>Single Epithelial Cell Size</th>\n",
              "      <th>Bare Nuclei</th>\n",
              "      <th>Bland Chromatin</th>\n",
              "      <th>Normal Nucleoli</th>\n",
              "      <th>Mitoses</th>\n",
              "      <th>Class</th>\n",
              "    </tr>\n",
              "  </thead>\n",
              "  <tbody>\n",
              "    <tr>\n",
              "      <th>0</th>\n",
              "      <td>1000025</td>\n",
              "      <td>5</td>\n",
              "      <td>1</td>\n",
              "      <td>1</td>\n",
              "      <td>1</td>\n",
              "      <td>2</td>\n",
              "      <td>1</td>\n",
              "      <td>3</td>\n",
              "      <td>1</td>\n",
              "      <td>1</td>\n",
              "      <td>2</td>\n",
              "    </tr>\n",
              "    <tr>\n",
              "      <th>1</th>\n",
              "      <td>1002945</td>\n",
              "      <td>5</td>\n",
              "      <td>4</td>\n",
              "      <td>4</td>\n",
              "      <td>5</td>\n",
              "      <td>7</td>\n",
              "      <td>10</td>\n",
              "      <td>3</td>\n",
              "      <td>2</td>\n",
              "      <td>1</td>\n",
              "      <td>2</td>\n",
              "    </tr>\n",
              "    <tr>\n",
              "      <th>2</th>\n",
              "      <td>1015425</td>\n",
              "      <td>3</td>\n",
              "      <td>1</td>\n",
              "      <td>1</td>\n",
              "      <td>1</td>\n",
              "      <td>2</td>\n",
              "      <td>2</td>\n",
              "      <td>3</td>\n",
              "      <td>1</td>\n",
              "      <td>1</td>\n",
              "      <td>2</td>\n",
              "    </tr>\n",
              "    <tr>\n",
              "      <th>3</th>\n",
              "      <td>1016277</td>\n",
              "      <td>6</td>\n",
              "      <td>8</td>\n",
              "      <td>8</td>\n",
              "      <td>1</td>\n",
              "      <td>3</td>\n",
              "      <td>4</td>\n",
              "      <td>3</td>\n",
              "      <td>7</td>\n",
              "      <td>1</td>\n",
              "      <td>2</td>\n",
              "    </tr>\n",
              "    <tr>\n",
              "      <th>4</th>\n",
              "      <td>1017023</td>\n",
              "      <td>4</td>\n",
              "      <td>1</td>\n",
              "      <td>1</td>\n",
              "      <td>3</td>\n",
              "      <td>2</td>\n",
              "      <td>1</td>\n",
              "      <td>3</td>\n",
              "      <td>1</td>\n",
              "      <td>1</td>\n",
              "      <td>2</td>\n",
              "    </tr>\n",
              "    <tr>\n",
              "      <th>5</th>\n",
              "      <td>1017122</td>\n",
              "      <td>8</td>\n",
              "      <td>10</td>\n",
              "      <td>10</td>\n",
              "      <td>8</td>\n",
              "      <td>7</td>\n",
              "      <td>10</td>\n",
              "      <td>9</td>\n",
              "      <td>7</td>\n",
              "      <td>1</td>\n",
              "      <td>4</td>\n",
              "    </tr>\n",
              "    <tr>\n",
              "      <th>6</th>\n",
              "      <td>1018099</td>\n",
              "      <td>1</td>\n",
              "      <td>1</td>\n",
              "      <td>1</td>\n",
              "      <td>1</td>\n",
              "      <td>2</td>\n",
              "      <td>10</td>\n",
              "      <td>3</td>\n",
              "      <td>1</td>\n",
              "      <td>1</td>\n",
              "      <td>2</td>\n",
              "    </tr>\n",
              "    <tr>\n",
              "      <th>7</th>\n",
              "      <td>1018561</td>\n",
              "      <td>2</td>\n",
              "      <td>1</td>\n",
              "      <td>2</td>\n",
              "      <td>1</td>\n",
              "      <td>2</td>\n",
              "      <td>1</td>\n",
              "      <td>3</td>\n",
              "      <td>1</td>\n",
              "      <td>1</td>\n",
              "      <td>2</td>\n",
              "    </tr>\n",
              "    <tr>\n",
              "      <th>8</th>\n",
              "      <td>1033078</td>\n",
              "      <td>2</td>\n",
              "      <td>1</td>\n",
              "      <td>1</td>\n",
              "      <td>1</td>\n",
              "      <td>2</td>\n",
              "      <td>1</td>\n",
              "      <td>1</td>\n",
              "      <td>1</td>\n",
              "      <td>5</td>\n",
              "      <td>2</td>\n",
              "    </tr>\n",
              "    <tr>\n",
              "      <th>9</th>\n",
              "      <td>1033078</td>\n",
              "      <td>4</td>\n",
              "      <td>2</td>\n",
              "      <td>1</td>\n",
              "      <td>1</td>\n",
              "      <td>2</td>\n",
              "      <td>1</td>\n",
              "      <td>2</td>\n",
              "      <td>1</td>\n",
              "      <td>1</td>\n",
              "      <td>2</td>\n",
              "    </tr>\n",
              "  </tbody>\n",
              "</table>\n",
              "</div>\n",
              "      <button class=\"colab-df-convert\" onclick=\"convertToInteractive('df-9e48b1e8-e644-4da9-8dee-19923984bfd0')\"\n",
              "              title=\"Convert this dataframe to an interactive table.\"\n",
              "              style=\"display:none;\">\n",
              "        \n",
              "  <svg xmlns=\"http://www.w3.org/2000/svg\" height=\"24px\"viewBox=\"0 0 24 24\"\n",
              "       width=\"24px\">\n",
              "    <path d=\"M0 0h24v24H0V0z\" fill=\"none\"/>\n",
              "    <path d=\"M18.56 5.44l.94 2.06.94-2.06 2.06-.94-2.06-.94-.94-2.06-.94 2.06-2.06.94zm-11 1L8.5 8.5l.94-2.06 2.06-.94-2.06-.94L8.5 2.5l-.94 2.06-2.06.94zm10 10l.94 2.06.94-2.06 2.06-.94-2.06-.94-.94-2.06-.94 2.06-2.06.94z\"/><path d=\"M17.41 7.96l-1.37-1.37c-.4-.4-.92-.59-1.43-.59-.52 0-1.04.2-1.43.59L10.3 9.45l-7.72 7.72c-.78.78-.78 2.05 0 2.83L4 21.41c.39.39.9.59 1.41.59.51 0 1.02-.2 1.41-.59l7.78-7.78 2.81-2.81c.8-.78.8-2.07 0-2.86zM5.41 20L4 18.59l7.72-7.72 1.47 1.35L5.41 20z\"/>\n",
              "  </svg>\n",
              "      </button>\n",
              "      \n",
              "  <style>\n",
              "    .colab-df-container {\n",
              "      display:flex;\n",
              "      flex-wrap:wrap;\n",
              "      gap: 12px;\n",
              "    }\n",
              "\n",
              "    .colab-df-convert {\n",
              "      background-color: #E8F0FE;\n",
              "      border: none;\n",
              "      border-radius: 50%;\n",
              "      cursor: pointer;\n",
              "      display: none;\n",
              "      fill: #1967D2;\n",
              "      height: 32px;\n",
              "      padding: 0 0 0 0;\n",
              "      width: 32px;\n",
              "    }\n",
              "\n",
              "    .colab-df-convert:hover {\n",
              "      background-color: #E2EBFA;\n",
              "      box-shadow: 0px 1px 2px rgba(60, 64, 67, 0.3), 0px 1px 3px 1px rgba(60, 64, 67, 0.15);\n",
              "      fill: #174EA6;\n",
              "    }\n",
              "\n",
              "    [theme=dark] .colab-df-convert {\n",
              "      background-color: #3B4455;\n",
              "      fill: #D2E3FC;\n",
              "    }\n",
              "\n",
              "    [theme=dark] .colab-df-convert:hover {\n",
              "      background-color: #434B5C;\n",
              "      box-shadow: 0px 1px 3px 1px rgba(0, 0, 0, 0.15);\n",
              "      filter: drop-shadow(0px 1px 2px rgba(0, 0, 0, 0.3));\n",
              "      fill: #FFFFFF;\n",
              "    }\n",
              "  </style>\n",
              "\n",
              "      <script>\n",
              "        const buttonEl =\n",
              "          document.querySelector('#df-9e48b1e8-e644-4da9-8dee-19923984bfd0 button.colab-df-convert');\n",
              "        buttonEl.style.display =\n",
              "          google.colab.kernel.accessAllowed ? 'block' : 'none';\n",
              "\n",
              "        async function convertToInteractive(key) {\n",
              "          const element = document.querySelector('#df-9e48b1e8-e644-4da9-8dee-19923984bfd0');\n",
              "          const dataTable =\n",
              "            await google.colab.kernel.invokeFunction('convertToInteractive',\n",
              "                                                     [key], {});\n",
              "          if (!dataTable) return;\n",
              "\n",
              "          const docLinkHtml = 'Like what you see? Visit the ' +\n",
              "            '<a target=\"_blank\" href=https://colab.research.google.com/notebooks/data_table.ipynb>data table notebook</a>'\n",
              "            + ' to learn more about interactive tables.';\n",
              "          element.innerHTML = '';\n",
              "          dataTable['output_type'] = 'display_data';\n",
              "          await google.colab.output.renderOutput(dataTable, element);\n",
              "          const docLink = document.createElement('div');\n",
              "          docLink.innerHTML = docLinkHtml;\n",
              "          element.appendChild(docLink);\n",
              "        }\n",
              "      </script>\n",
              "    </div>\n",
              "  </div>\n",
              "  "
            ]
          },
          "metadata": {},
          "execution_count": 2
        }
      ]
    },
    {
      "cell_type": "markdown",
      "source": [
        "## Realizamos el análisis exploratorio de los datos"
      ],
      "metadata": {
        "id": "I3o_3EVWlAkJ"
      }
    },
    {
      "cell_type": "code",
      "source": [
        "datos.shape"
      ],
      "metadata": {
        "colab": {
          "base_uri": "https://localhost:8080/"
        },
        "outputId": "490ffa63-0fd0-4a1d-b3c1-21fcc9973f19",
        "id": "AkTNIqj69xbM"
      },
      "execution_count": 3,
      "outputs": [
        {
          "output_type": "execute_result",
          "data": {
            "text/plain": [
              "(596, 11)"
            ]
          },
          "metadata": {},
          "execution_count": 3
        }
      ]
    },
    {
      "cell_type": "code",
      "source": [
        "datos.columns"
      ],
      "metadata": {
        "colab": {
          "base_uri": "https://localhost:8080/"
        },
        "id": "LAhZ5yODXT3f",
        "outputId": "a7f7d5aa-00ba-443b-b4d1-832d7759eadd"
      },
      "execution_count": 4,
      "outputs": [
        {
          "output_type": "execute_result",
          "data": {
            "text/plain": [
              "Index(['ID', 'Clump Thickness', 'Uniformity of Cell Size',\n",
              "       'Uniformity of Cell Shape', 'Marginal Adhesion',\n",
              "       'Single Epithelial Cell Size', 'Bare Nuclei', 'Bland Chromatin',\n",
              "       'Normal Nucleoli', 'Mitoses', 'Class'],\n",
              "      dtype='object')"
            ]
          },
          "metadata": {},
          "execution_count": 4
        }
      ]
    },
    {
      "cell_type": "code",
      "source": [
        "datos.info()"
      ],
      "metadata": {
        "colab": {
          "base_uri": "https://localhost:8080/"
        },
        "id": "KIpJPsSDXhUz",
        "outputId": "abc1cf9e-6020-40f7-fcdc-b96a72e4e076"
      },
      "execution_count": 5,
      "outputs": [
        {
          "output_type": "stream",
          "name": "stdout",
          "text": [
            "<class 'pandas.core.frame.DataFrame'>\n",
            "RangeIndex: 596 entries, 0 to 595\n",
            "Data columns (total 11 columns):\n",
            " #   Column                       Non-Null Count  Dtype \n",
            "---  ------                       --------------  ----- \n",
            " 0   ID                           596 non-null    int64 \n",
            " 1   Clump Thickness              596 non-null    int64 \n",
            " 2   Uniformity of Cell Size      596 non-null    int64 \n",
            " 3   Uniformity of Cell Shape     596 non-null    int64 \n",
            " 4   Marginal Adhesion            596 non-null    int64 \n",
            " 5   Single Epithelial Cell Size  596 non-null    int64 \n",
            " 6   Bare Nuclei                  596 non-null    object\n",
            " 7   Bland Chromatin              596 non-null    int64 \n",
            " 8   Normal Nucleoli              596 non-null    int64 \n",
            " 9   Mitoses                      596 non-null    int64 \n",
            " 10  Class                        596 non-null    int64 \n",
            "dtypes: int64(10), object(1)\n",
            "memory usage: 51.3+ KB\n"
          ]
        }
      ]
    },
    {
      "cell_type": "code",
      "source": [
        "datos.describe().round(2)"
      ],
      "metadata": {
        "colab": {
          "base_uri": "https://localhost:8080/",
          "height": 300
        },
        "id": "hKfvGrfM1F90",
        "outputId": "fa130c18-beb6-4ae3-dee5-a7c83a4366d0"
      },
      "execution_count": 6,
      "outputs": [
        {
          "output_type": "execute_result",
          "data": {
            "text/plain": [
              "                ID  Clump Thickness  Uniformity of Cell Size  \\\n",
              "count       596.00           596.00                   596.00   \n",
              "mean    1073579.23             4.38                     3.14   \n",
              "std      657639.16             2.83                     3.04   \n",
              "min       61634.00             1.00                     1.00   \n",
              "25%      864581.25             2.00                     1.00   \n",
              "50%     1171261.50             4.00                     1.00   \n",
              "75%     1238242.00             6.00                     4.00   \n",
              "max    13454352.00            10.00                    10.00   \n",
              "\n",
              "       Uniformity of Cell Shape  Marginal Adhesion  \\\n",
              "count                    596.00             596.00   \n",
              "mean                       3.21               2.84   \n",
              "std                        2.97               2.90   \n",
              "min                        1.00               1.00   \n",
              "25%                        1.00               1.00   \n",
              "50%                        1.00               1.00   \n",
              "75%                        5.00               4.00   \n",
              "max                       10.00              10.00   \n",
              "\n",
              "       Single Epithelial Cell Size  Bland Chromatin  Normal Nucleoli  Mitoses  \\\n",
              "count                       596.00           596.00           596.00   596.00   \n",
              "mean                          3.19             3.43             2.86     1.57   \n",
              "std                           2.21             2.42             3.05     1.69   \n",
              "min                           1.00             1.00             1.00     1.00   \n",
              "25%                           2.00             2.00             1.00     1.00   \n",
              "50%                           2.00             3.00             1.00     1.00   \n",
              "75%                           4.00             4.25             3.25     1.00   \n",
              "max                          10.00            10.00            10.00    10.00   \n",
              "\n",
              "        Class  \n",
              "count  596.00  \n",
              "mean     2.69  \n",
              "std      0.95  \n",
              "min      2.00  \n",
              "25%      2.00  \n",
              "50%      2.00  \n",
              "75%      4.00  \n",
              "max      4.00  "
            ],
            "text/html": [
              "\n",
              "  <div id=\"df-47b886cc-ff8a-4e55-86a2-60c09e99c703\">\n",
              "    <div class=\"colab-df-container\">\n",
              "      <div>\n",
              "<style scoped>\n",
              "    .dataframe tbody tr th:only-of-type {\n",
              "        vertical-align: middle;\n",
              "    }\n",
              "\n",
              "    .dataframe tbody tr th {\n",
              "        vertical-align: top;\n",
              "    }\n",
              "\n",
              "    .dataframe thead th {\n",
              "        text-align: right;\n",
              "    }\n",
              "</style>\n",
              "<table border=\"1\" class=\"dataframe\">\n",
              "  <thead>\n",
              "    <tr style=\"text-align: right;\">\n",
              "      <th></th>\n",
              "      <th>ID</th>\n",
              "      <th>Clump Thickness</th>\n",
              "      <th>Uniformity of Cell Size</th>\n",
              "      <th>Uniformity of Cell Shape</th>\n",
              "      <th>Marginal Adhesion</th>\n",
              "      <th>Single Epithelial Cell Size</th>\n",
              "      <th>Bland Chromatin</th>\n",
              "      <th>Normal Nucleoli</th>\n",
              "      <th>Mitoses</th>\n",
              "      <th>Class</th>\n",
              "    </tr>\n",
              "  </thead>\n",
              "  <tbody>\n",
              "    <tr>\n",
              "      <th>count</th>\n",
              "      <td>596.00</td>\n",
              "      <td>596.00</td>\n",
              "      <td>596.00</td>\n",
              "      <td>596.00</td>\n",
              "      <td>596.00</td>\n",
              "      <td>596.00</td>\n",
              "      <td>596.00</td>\n",
              "      <td>596.00</td>\n",
              "      <td>596.00</td>\n",
              "      <td>596.00</td>\n",
              "    </tr>\n",
              "    <tr>\n",
              "      <th>mean</th>\n",
              "      <td>1073579.23</td>\n",
              "      <td>4.38</td>\n",
              "      <td>3.14</td>\n",
              "      <td>3.21</td>\n",
              "      <td>2.84</td>\n",
              "      <td>3.19</td>\n",
              "      <td>3.43</td>\n",
              "      <td>2.86</td>\n",
              "      <td>1.57</td>\n",
              "      <td>2.69</td>\n",
              "    </tr>\n",
              "    <tr>\n",
              "      <th>std</th>\n",
              "      <td>657639.16</td>\n",
              "      <td>2.83</td>\n",
              "      <td>3.04</td>\n",
              "      <td>2.97</td>\n",
              "      <td>2.90</td>\n",
              "      <td>2.21</td>\n",
              "      <td>2.42</td>\n",
              "      <td>3.05</td>\n",
              "      <td>1.69</td>\n",
              "      <td>0.95</td>\n",
              "    </tr>\n",
              "    <tr>\n",
              "      <th>min</th>\n",
              "      <td>61634.00</td>\n",
              "      <td>1.00</td>\n",
              "      <td>1.00</td>\n",
              "      <td>1.00</td>\n",
              "      <td>1.00</td>\n",
              "      <td>1.00</td>\n",
              "      <td>1.00</td>\n",
              "      <td>1.00</td>\n",
              "      <td>1.00</td>\n",
              "      <td>2.00</td>\n",
              "    </tr>\n",
              "    <tr>\n",
              "      <th>25%</th>\n",
              "      <td>864581.25</td>\n",
              "      <td>2.00</td>\n",
              "      <td>1.00</td>\n",
              "      <td>1.00</td>\n",
              "      <td>1.00</td>\n",
              "      <td>2.00</td>\n",
              "      <td>2.00</td>\n",
              "      <td>1.00</td>\n",
              "      <td>1.00</td>\n",
              "      <td>2.00</td>\n",
              "    </tr>\n",
              "    <tr>\n",
              "      <th>50%</th>\n",
              "      <td>1171261.50</td>\n",
              "      <td>4.00</td>\n",
              "      <td>1.00</td>\n",
              "      <td>1.00</td>\n",
              "      <td>1.00</td>\n",
              "      <td>2.00</td>\n",
              "      <td>3.00</td>\n",
              "      <td>1.00</td>\n",
              "      <td>1.00</td>\n",
              "      <td>2.00</td>\n",
              "    </tr>\n",
              "    <tr>\n",
              "      <th>75%</th>\n",
              "      <td>1238242.00</td>\n",
              "      <td>6.00</td>\n",
              "      <td>4.00</td>\n",
              "      <td>5.00</td>\n",
              "      <td>4.00</td>\n",
              "      <td>4.00</td>\n",
              "      <td>4.25</td>\n",
              "      <td>3.25</td>\n",
              "      <td>1.00</td>\n",
              "      <td>4.00</td>\n",
              "    </tr>\n",
              "    <tr>\n",
              "      <th>max</th>\n",
              "      <td>13454352.00</td>\n",
              "      <td>10.00</td>\n",
              "      <td>10.00</td>\n",
              "      <td>10.00</td>\n",
              "      <td>10.00</td>\n",
              "      <td>10.00</td>\n",
              "      <td>10.00</td>\n",
              "      <td>10.00</td>\n",
              "      <td>10.00</td>\n",
              "      <td>4.00</td>\n",
              "    </tr>\n",
              "  </tbody>\n",
              "</table>\n",
              "</div>\n",
              "      <button class=\"colab-df-convert\" onclick=\"convertToInteractive('df-47b886cc-ff8a-4e55-86a2-60c09e99c703')\"\n",
              "              title=\"Convert this dataframe to an interactive table.\"\n",
              "              style=\"display:none;\">\n",
              "        \n",
              "  <svg xmlns=\"http://www.w3.org/2000/svg\" height=\"24px\"viewBox=\"0 0 24 24\"\n",
              "       width=\"24px\">\n",
              "    <path d=\"M0 0h24v24H0V0z\" fill=\"none\"/>\n",
              "    <path d=\"M18.56 5.44l.94 2.06.94-2.06 2.06-.94-2.06-.94-.94-2.06-.94 2.06-2.06.94zm-11 1L8.5 8.5l.94-2.06 2.06-.94-2.06-.94L8.5 2.5l-.94 2.06-2.06.94zm10 10l.94 2.06.94-2.06 2.06-.94-2.06-.94-.94-2.06-.94 2.06-2.06.94z\"/><path d=\"M17.41 7.96l-1.37-1.37c-.4-.4-.92-.59-1.43-.59-.52 0-1.04.2-1.43.59L10.3 9.45l-7.72 7.72c-.78.78-.78 2.05 0 2.83L4 21.41c.39.39.9.59 1.41.59.51 0 1.02-.2 1.41-.59l7.78-7.78 2.81-2.81c.8-.78.8-2.07 0-2.86zM5.41 20L4 18.59l7.72-7.72 1.47 1.35L5.41 20z\"/>\n",
              "  </svg>\n",
              "      </button>\n",
              "      \n",
              "  <style>\n",
              "    .colab-df-container {\n",
              "      display:flex;\n",
              "      flex-wrap:wrap;\n",
              "      gap: 12px;\n",
              "    }\n",
              "\n",
              "    .colab-df-convert {\n",
              "      background-color: #E8F0FE;\n",
              "      border: none;\n",
              "      border-radius: 50%;\n",
              "      cursor: pointer;\n",
              "      display: none;\n",
              "      fill: #1967D2;\n",
              "      height: 32px;\n",
              "      padding: 0 0 0 0;\n",
              "      width: 32px;\n",
              "    }\n",
              "\n",
              "    .colab-df-convert:hover {\n",
              "      background-color: #E2EBFA;\n",
              "      box-shadow: 0px 1px 2px rgba(60, 64, 67, 0.3), 0px 1px 3px 1px rgba(60, 64, 67, 0.15);\n",
              "      fill: #174EA6;\n",
              "    }\n",
              "\n",
              "    [theme=dark] .colab-df-convert {\n",
              "      background-color: #3B4455;\n",
              "      fill: #D2E3FC;\n",
              "    }\n",
              "\n",
              "    [theme=dark] .colab-df-convert:hover {\n",
              "      background-color: #434B5C;\n",
              "      box-shadow: 0px 1px 3px 1px rgba(0, 0, 0, 0.15);\n",
              "      filter: drop-shadow(0px 1px 2px rgba(0, 0, 0, 0.3));\n",
              "      fill: #FFFFFF;\n",
              "    }\n",
              "  </style>\n",
              "\n",
              "      <script>\n",
              "        const buttonEl =\n",
              "          document.querySelector('#df-47b886cc-ff8a-4e55-86a2-60c09e99c703 button.colab-df-convert');\n",
              "        buttonEl.style.display =\n",
              "          google.colab.kernel.accessAllowed ? 'block' : 'none';\n",
              "\n",
              "        async function convertToInteractive(key) {\n",
              "          const element = document.querySelector('#df-47b886cc-ff8a-4e55-86a2-60c09e99c703');\n",
              "          const dataTable =\n",
              "            await google.colab.kernel.invokeFunction('convertToInteractive',\n",
              "                                                     [key], {});\n",
              "          if (!dataTable) return;\n",
              "\n",
              "          const docLinkHtml = 'Like what you see? Visit the ' +\n",
              "            '<a target=\"_blank\" href=https://colab.research.google.com/notebooks/data_table.ipynb>data table notebook</a>'\n",
              "            + ' to learn more about interactive tables.';\n",
              "          element.innerHTML = '';\n",
              "          dataTable['output_type'] = 'display_data';\n",
              "          await google.colab.output.renderOutput(dataTable, element);\n",
              "          const docLink = document.createElement('div');\n",
              "          docLink.innerHTML = docLinkHtml;\n",
              "          element.appendChild(docLink);\n",
              "        }\n",
              "      </script>\n",
              "    </div>\n",
              "  </div>\n",
              "  "
            ]
          },
          "metadata": {},
          "execution_count": 6
        }
      ]
    },
    {
      "cell_type": "markdown",
      "source": [
        "El dataframe actual tiene 596 casos recopilados \n",
        "No hay datos nulos, no hace falta tratarlos.-\n",
        "\n",
        "Hay una columna con valores numericos pero tiene dtype = objeto. La vemos mas  tarde"
      ],
      "metadata": {
        "id": "3ueH4c65XuEZ"
      }
    },
    {
      "cell_type": "code",
      "source": [
        "for column in datos.iloc[:,1:]: \n",
        "  print('columna:', column, '| Valores unicos:', datos[column].nunique(), '| Puede tomar valores:', sorted(datos[column].unique()))"
      ],
      "metadata": {
        "colab": {
          "base_uri": "https://localhost:8080/"
        },
        "id": "e3diZ4Izdtbu",
        "outputId": "d4310bf0-ef42-4d95-dd91-d09d3e90b7bf"
      },
      "execution_count": 7,
      "outputs": [
        {
          "output_type": "stream",
          "name": "stdout",
          "text": [
            "columna: Clump Thickness | Valores unicos: 10 | Puede tomar valores: [1, 2, 3, 4, 5, 6, 7, 8, 9, 10]\n",
            "columna: Uniformity of Cell Size | Valores unicos: 10 | Puede tomar valores: [1, 2, 3, 4, 5, 6, 7, 8, 9, 10]\n",
            "columna: Uniformity of Cell Shape | Valores unicos: 10 | Puede tomar valores: [1, 2, 3, 4, 5, 6, 7, 8, 9, 10]\n",
            "columna: Marginal Adhesion | Valores unicos: 10 | Puede tomar valores: [1, 2, 3, 4, 5, 6, 7, 8, 9, 10]\n",
            "columna: Single Epithelial Cell Size | Valores unicos: 10 | Puede tomar valores: [1, 2, 3, 4, 5, 6, 7, 8, 9, 10]\n",
            "columna: Bare Nuclei | Valores unicos: 11 | Puede tomar valores: ['1', '10', '2', '3', '4', '5', '6', '7', '8', '9', '?']\n",
            "columna: Bland Chromatin | Valores unicos: 10 | Puede tomar valores: [1, 2, 3, 4, 5, 6, 7, 8, 9, 10]\n",
            "columna: Normal Nucleoli | Valores unicos: 10 | Puede tomar valores: [1, 2, 3, 4, 5, 6, 7, 8, 9, 10]\n",
            "columna: Mitoses | Valores unicos: 9 | Puede tomar valores: [1, 2, 3, 4, 5, 6, 7, 8, 10]\n",
            "columna: Class | Valores unicos: 2 | Puede tomar valores: [2, 4]\n"
          ]
        }
      ]
    },
    {
      "cell_type": "markdown",
      "source": [
        "Aquí vemos los valores que puede tomar cada columna. Son muy parecidos, por eso no necesitamos el escalado."
      ],
      "metadata": {
        "id": "oq2tfEjoQSbj"
      }
    },
    {
      "cell_type": "markdown",
      "source": [
        "Vemos una columna Bare Nuclei que tiene otro tipo de datos (objeto en lugar a int) y tiene un valor inesperado '?'\n"
      ],
      "metadata": {
        "id": "MTKnYOVBhC11"
      }
    },
    {
      "cell_type": "code",
      "source": [
        "datos['Bare Nuclei'].value_counts().sort_values(ascending=False)"
      ],
      "metadata": {
        "colab": {
          "base_uri": "https://localhost:8080/"
        },
        "id": "SbJXE8opib5N",
        "outputId": "7a29f20c-00d3-49c3-a43f-31dc7df9f410"
      },
      "execution_count": 8,
      "outputs": [
        {
          "output_type": "execute_result",
          "data": {
            "text/plain": [
              "1     341\n",
              "10    115\n",
              "5      28\n",
              "3      25\n",
              "2      24\n",
              "8      17\n",
              "?      16\n",
              "4      14\n",
              "9       9\n",
              "7       5\n",
              "6       2\n",
              "Name: Bare Nuclei, dtype: int64"
            ]
          },
          "metadata": {},
          "execution_count": 8
        }
      ]
    },
    {
      "cell_type": "code",
      "source": [
        "16 / len(datos)"
      ],
      "metadata": {
        "colab": {
          "base_uri": "https://localhost:8080/"
        },
        "id": "0EaxcYmdjOfk",
        "outputId": "7af24579-444f-46c2-9d0e-50244b9524f9"
      },
      "execution_count": 9,
      "outputs": [
        {
          "output_type": "execute_result",
          "data": {
            "text/plain": [
              "0.026845637583892617"
            ]
          },
          "metadata": {},
          "execution_count": 9
        }
      ]
    },
    {
      "cell_type": "markdown",
      "source": [
        "Hay 16 filas afectadas con el valor '?' en la columna ['Bare Nuclei']. Son 2,7% de todos los datos. Segun la descripción de los datos de esta columna solo deberian tener los valores 1-10. Podemos eliminar estas filas y cambiar el tipo de datos de la columna afectada o bien podemos imputar estos datos cambiandolos por valor mas frecuente (en este caso sería 1)"
      ],
      "metadata": {
        "id": "BbCE4JusjWNf"
      }
    },
    {
      "cell_type": "markdown",
      "source": [
        "He decidido eliminar los datos con el valor '?' \n"
      ],
      "metadata": {
        "id": "Tad8g_TNu-lV"
      }
    },
    {
      "cell_type": "code",
      "source": [
        "a = datos.loc[datos['Bare Nuclei']=='?']\n",
        "datos.drop(a.index,inplace=True)\n",
        "\n",
        "datos.shape"
      ],
      "metadata": {
        "colab": {
          "base_uri": "https://localhost:8080/"
        },
        "id": "JoNdVICNnWup",
        "outputId": "3d5a7777-3e09-42bb-f6a4-a5c1f722b3df"
      },
      "execution_count": 10,
      "outputs": [
        {
          "output_type": "execute_result",
          "data": {
            "text/plain": [
              "(580, 11)"
            ]
          },
          "metadata": {},
          "execution_count": 10
        }
      ]
    },
    {
      "cell_type": "code",
      "source": [
        "datos['Bare Nuclei'].astype('int64')"
      ],
      "metadata": {
        "colab": {
          "base_uri": "https://localhost:8080/"
        },
        "id": "h7PA9f0cvLw4",
        "outputId": "ea042968-e383-4251-ccd0-d5f56889bcd7"
      },
      "execution_count": 11,
      "outputs": [
        {
          "output_type": "execute_result",
          "data": {
            "text/plain": [
              "0       1\n",
              "1      10\n",
              "2       2\n",
              "3       4\n",
              "4       1\n",
              "       ..\n",
              "591     1\n",
              "592     2\n",
              "593     1\n",
              "594     3\n",
              "595     5\n",
              "Name: Bare Nuclei, Length: 580, dtype: int64"
            ]
          },
          "metadata": {},
          "execution_count": 11
        }
      ]
    },
    {
      "cell_type": "markdown",
      "source": [
        "**datos['Class'] es nuestro target**\n"
      ],
      "metadata": {
        "id": "A5KBwww-aQv4"
      }
    },
    {
      "cell_type": "code",
      "source": [
        "datos['Class'].unique() "
      ],
      "metadata": {
        "colab": {
          "base_uri": "https://localhost:8080/"
        },
        "outputId": "86bc2e11-62fb-45de-f74c-d1409b501262",
        "id": "0e-j-STB9xbd"
      },
      "execution_count": 12,
      "outputs": [
        {
          "output_type": "execute_result",
          "data": {
            "text/plain": [
              "array([2, 4])"
            ]
          },
          "metadata": {},
          "execution_count": 12
        }
      ]
    },
    {
      "cell_type": "code",
      "source": [
        "datos['Class'].value_counts()"
      ],
      "metadata": {
        "colab": {
          "base_uri": "https://localhost:8080/"
        },
        "id": "whzHWz_XbFGC",
        "outputId": "83195e4c-932d-40a3-be1b-857de42f2f05"
      },
      "execution_count": 13,
      "outputs": [
        {
          "output_type": "execute_result",
          "data": {
            "text/plain": [
              "2    377\n",
              "4    203\n",
              "Name: Class, dtype: int64"
            ]
          },
          "metadata": {},
          "execution_count": 13
        }
      ]
    },
    {
      "cell_type": "code",
      "source": [
        "datos['Class'].value_counts(normalize = True)"
      ],
      "metadata": {
        "colab": {
          "base_uri": "https://localhost:8080/"
        },
        "id": "j6yUQJcJah99",
        "outputId": "fd9df8fd-ecb5-413b-b385-45e9bf82f63f"
      },
      "execution_count": 14,
      "outputs": [
        {
          "output_type": "execute_result",
          "data": {
            "text/plain": [
              "2    0.65\n",
              "4    0.35\n",
              "Name: Class, dtype: float64"
            ]
          },
          "metadata": {},
          "execution_count": 14
        }
      ]
    },
    {
      "cell_type": "markdown",
      "source": [
        "   Dataset tiene :\n",
        "   377 (65.6%) casos benignos\n",
        "   203 (34.4%) casos malignos"
      ],
      "metadata": {
        "id": "ek0sEHiRa3VK"
      }
    },
    {
      "cell_type": "markdown",
      "source": [
        "Cambiamos los valores de datos['Class'] por 0 - casos benignos y 1 - casos malignos."
      ],
      "metadata": {
        "id": "o6wsip7JArvq"
      }
    },
    {
      "cell_type": "code",
      "source": [
        "datos['Class']=datos['Class'].map({2:0,4:1})"
      ],
      "metadata": {
        "id": "BQzs-svfAmpv"
      },
      "execution_count": 15,
      "outputs": []
    },
    {
      "cell_type": "code",
      "source": [
        "datos['Class'].value_counts()"
      ],
      "metadata": {
        "colab": {
          "base_uri": "https://localhost:8080/"
        },
        "id": "Rnha1GfPA1u_",
        "outputId": "1663d5cb-ae13-41c3-837e-ea072352f93d"
      },
      "execution_count": 16,
      "outputs": [
        {
          "output_type": "execute_result",
          "data": {
            "text/plain": [
              "0    377\n",
              "1    203\n",
              "Name: Class, dtype: int64"
            ]
          },
          "metadata": {},
          "execution_count": 16
        }
      ]
    },
    {
      "cell_type": "markdown",
      "source": [
        "La unica variable categorica ya esta presentada con numeros. No hace falta transformarla.\n",
        "\n",
        "\n",
        "---\n",
        "\n",
        "Los variables numericos tienen el rango similar (1-10). No hace falta el escalado."
      ],
      "metadata": {
        "id": "h2dfS7acG3mh"
      }
    },
    {
      "cell_type": "code",
      "source": [
        "import matplotlib.pyplot as plt\n",
        "import seaborn as sns"
      ],
      "metadata": {
        "id": "4MXHWEmXQE28"
      },
      "execution_count": 17,
      "outputs": []
    },
    {
      "cell_type": "code",
      "source": [
        "columns=datos.columns.tolist()\n",
        "fig, axes = plt.subplots(11,figsize=(10,40))\n",
        "for i, column in  enumerate(columns):\n",
        "  axes[i].hist(datos[column])\n",
        "  axes[i].set_title(column, fontsize = 10, fontweight = \"bold\")\n",
        "plt.subplots_adjust(left=0.1, \n",
        "                    bottom=0.1,  \n",
        "                    right=0.9,  \n",
        "                    top=0.9,  \n",
        "                    wspace=0.4,  \n",
        "                    hspace=0.3) \n",
        "plt.show()"
      ],
      "metadata": {
        "colab": {
          "base_uri": "https://localhost:8080/",
          "height": 1000
        },
        "id": "1Q375WVdP6GO",
        "outputId": "66e3ab7f-0e9f-465f-d160-0352cb0b237d"
      },
      "execution_count": 18,
      "outputs": [
        {
          "output_type": "display_data",
          "data": {
            "text/plain": [
              "<Figure size 720x2880 with 11 Axes>"
            ],
            "image/png": "[encoded data removed]"
          },
          "metadata": {
            "needs_background": "light"
          }
        }
      ]
    },
    {
      "cell_type": "markdown",
      "source": [
        "Vamos a mirar cada columna frente a nuestro target."
      ],
      "metadata": {
        "id": "nuJN4usvRQe0"
      }
    },
    {
      "cell_type": "code",
      "source": [
        "corr_matrix = datos.corr(method='pearson')\n",
        "corr_matrix"
      ],
      "metadata": {
        "colab": {
          "base_uri": "https://localhost:8080/",
          "height": 363
        },
        "id": "eQumsfSYQ_SU",
        "outputId": "56bd7e31-ceac-4b8c-d680-5b255e2a7841"
      },
      "execution_count": 19,
      "outputs": [
        {
          "output_type": "execute_result",
          "data": {
            "text/plain": [
              "                                   ID  Clump Thickness  \\\n",
              "ID                           1.000000        -0.062699   \n",
              "Clump Thickness             -0.062699         1.000000   \n",
              "Uniformity of Cell Size     -0.043998         0.639108   \n",
              "Uniformity of Cell Shape    -0.045924         0.651285   \n",
              "Marginal Adhesion           -0.069783         0.491212   \n",
              "Single Epithelial Cell Size -0.050510         0.529791   \n",
              "Bland Chromatin             -0.070934         0.560543   \n",
              "Normal Nucleoli             -0.051648         0.539958   \n",
              "Mitoses                     -0.033752         0.365677   \n",
              "Class                       -0.090036         0.712779   \n",
              "\n",
              "                             Uniformity of Cell Size  \\\n",
              "ID                                         -0.043998   \n",
              "Clump Thickness                             0.639108   \n",
              "Uniformity of Cell Size                     1.000000   \n",
              "Uniformity of Cell Shape                    0.899959   \n",
              "Marginal Adhesion                           0.720225   \n",
              "Single Epithelial Cell Size                 0.754088   \n",
              "Bland Chromatin                             0.749728   \n",
              "Normal Nucleoli                             0.712592   \n",
              "Mitoses                                     0.449608   \n",
              "Class                                       0.811640   \n",
              "\n",
              "                             Uniformity of Cell Shape  Marginal Adhesion  \\\n",
              "ID                                          -0.045924          -0.069783   \n",
              "Clump Thickness                              0.651285           0.491212   \n",
              "Uniformity of Cell Size                      0.899959           0.720225   \n",
              "Uniformity of Cell Shape                     1.000000           0.692737   \n",
              "Marginal Adhesion                            0.692737           1.000000   \n",
              "Single Epithelial Cell Size                  0.726558           0.603198   \n",
              "Bland Chromatin                              0.727664           0.659407   \n",
              "Normal Nucleoli                              0.713663           0.589698   \n",
              "Mitoses                                      0.437648           0.404009   \n",
              "Class                                        0.815862           0.715535   \n",
              "\n",
              "                             Single Epithelial Cell Size  Bland Chromatin  \\\n",
              "ID                                             -0.050510        -0.070934   \n",
              "Clump Thickness                                 0.529791         0.560543   \n",
              "Uniformity of Cell Size                         0.754088         0.749728   \n",
              "Uniformity of Cell Shape                        0.726558         0.727664   \n",
              "Marginal Adhesion                               0.603198         0.659407   \n",
              "Single Epithelial Cell Size                     1.000000         0.617945   \n",
              "Bland Chromatin                                 0.617945         1.000000   \n",
              "Normal Nucleoli                                 0.624829         0.663911   \n",
              "Mitoses                                         0.472299         0.330086   \n",
              "Class                                           0.688710         0.757129   \n",
              "\n",
              "                             Normal Nucleoli   Mitoses     Class  \n",
              "ID                                 -0.051648 -0.033752 -0.090036  \n",
              "Clump Thickness                     0.539958  0.365677  0.712779  \n",
              "Uniformity of Cell Size             0.712592  0.449608  0.811640  \n",
              "Uniformity of Cell Shape            0.713663  0.437648  0.815862  \n",
              "Marginal Adhesion                   0.589698  0.404009  0.715535  \n",
              "Single Epithelial Cell Size         0.624829  0.472299  0.688710  \n",
              "Bland Chromatin                     0.663911  0.330086  0.757129  \n",
              "Normal Nucleoli                     1.000000  0.410668  0.722937  \n",
              "Mitoses                             0.410668  1.000000  0.409057  \n",
              "Class                               0.722937  0.409057  1.000000  "
            ],
            "text/html": [
              "\n",
              "  <div id=\"df-880abf0b-defa-46d1-9e23-cc36b2fa7198\">\n",
              "    <div class=\"colab-df-container\">\n",
              "      <div>\n",
              "<style scoped>\n",
              "    .dataframe tbody tr th:only-of-type {\n",
              "        vertical-align: middle;\n",
              "    }\n",
              "\n",
              "    .dataframe tbody tr th {\n",
              "        vertical-align: top;\n",
              "    }\n",
              "\n",
              "    .dataframe thead th {\n",
              "        text-align: right;\n",
              "    }\n",
              "</style>\n",
              "<table border=\"1\" class=\"dataframe\">\n",
              "  <thead>\n",
              "    <tr style=\"text-align: right;\">\n",
              "      <th></th>\n",
              "      <th>ID</th>\n",
              "      <th>Clump Thickness</th>\n",
              "      <th>Uniformity of Cell Size</th>\n",
              "      <th>Uniformity of Cell Shape</th>\n",
              "      <th>Marginal Adhesion</th>\n",
              "      <th>Single Epithelial Cell Size</th>\n",
              "      <th>Bland Chromatin</th>\n",
              "      <th>Normal Nucleoli</th>\n",
              "      <th>Mitoses</th>\n",
              "      <th>Class</th>\n",
              "    </tr>\n",
              "  </thead>\n",
              "  <tbody>\n",
              "    <tr>\n",
              "      <th>ID</th>\n",
              "      <td>1.000000</td>\n",
              "      <td>-0.062699</td>\n",
              "      <td>-0.043998</td>\n",
              "      <td>-0.045924</td>\n",
              "      <td>-0.069783</td>\n",
              "      <td>-0.050510</td>\n",
              "      <td>-0.070934</td>\n",
              "      <td>-0.051648</td>\n",
              "      <td>-0.033752</td>\n",
              "      <td>-0.090036</td>\n",
              "    </tr>\n",
              "    <tr>\n",
              "      <th>Clump Thickness</th>\n",
              "      <td>-0.062699</td>\n",
              "      <td>1.000000</td>\n",
              "      <td>0.639108</td>\n",
              "      <td>0.651285</td>\n",
              "      <td>0.491212</td>\n",
              "      <td>0.529791</td>\n",
              "      <td>0.560543</td>\n",
              "      <td>0.539958</td>\n",
              "      <td>0.365677</td>\n",
              "      <td>0.712779</td>\n",
              "    </tr>\n",
              "    <tr>\n",
              "      <th>Uniformity of Cell Size</th>\n",
              "      <td>-0.043998</td>\n",
              "      <td>0.639108</td>\n",
              "      <td>1.000000</td>\n",
              "      <td>0.899959</td>\n",
              "      <td>0.720225</td>\n",
              "      <td>0.754088</td>\n",
              "      <td>0.749728</td>\n",
              "      <td>0.712592</td>\n",
              "      <td>0.449608</td>\n",
              "      <td>0.811640</td>\n",
              "    </tr>\n",
              "    <tr>\n",
              "      <th>Uniformity of Cell Shape</th>\n",
              "      <td>-0.045924</td>\n",
              "      <td>0.651285</td>\n",
              "      <td>0.899959</td>\n",
              "      <td>1.000000</td>\n",
              "      <td>0.692737</td>\n",
              "      <td>0.726558</td>\n",
              "      <td>0.727664</td>\n",
              "      <td>0.713663</td>\n",
              "      <td>0.437648</td>\n",
              "      <td>0.815862</td>\n",
              "    </tr>\n",
              "    <tr>\n",
              "      <th>Marginal Adhesion</th>\n",
              "      <td>-0.069783</td>\n",
              "      <td>0.491212</td>\n",
              "      <td>0.720225</td>\n",
              "      <td>0.692737</td>\n",
              "      <td>1.000000</td>\n",
              "      <td>0.603198</td>\n",
              "      <td>0.659407</td>\n",
              "      <td>0.589698</td>\n",
              "      <td>0.404009</td>\n",
              "      <td>0.715535</td>\n",
              "    </tr>\n",
              "    <tr>\n",
              "      <th>Single Epithelial Cell Size</th>\n",
              "      <td>-0.050510</td>\n",
              "      <td>0.529791</td>\n",
              "      <td>0.754088</td>\n",
              "      <td>0.726558</td>\n",
              "      <td>0.603198</td>\n",
              "      <td>1.000000</td>\n",
              "      <td>0.617945</td>\n",
              "      <td>0.624829</td>\n",
              "      <td>0.472299</td>\n",
              "      <td>0.688710</td>\n",
              "    </tr>\n",
              "    <tr>\n",
              "      <th>Bland Chromatin</th>\n",
              "      <td>-0.070934</td>\n",
              "      <td>0.560543</td>\n",
              "      <td>0.749728</td>\n",
              "      <td>0.727664</td>\n",
              "      <td>0.659407</td>\n",
              "      <td>0.617945</td>\n",
              "      <td>1.000000</td>\n",
              "      <td>0.663911</td>\n",
              "      <td>0.330086</td>\n",
              "      <td>0.757129</td>\n",
              "    </tr>\n",
              "    <tr>\n",
              "      <th>Normal Nucleoli</th>\n",
              "      <td>-0.051648</td>\n",
              "      <td>0.539958</td>\n",
              "      <td>0.712592</td>\n",
              "      <td>0.713663</td>\n",
              "      <td>0.589698</td>\n",
              "      <td>0.624829</td>\n",
              "      <td>0.663911</td>\n",
              "      <td>1.000000</td>\n",
              "      <td>0.410668</td>\n",
              "      <td>0.722937</td>\n",
              "    </tr>\n",
              "    <tr>\n",
              "      <th>Mitoses</th>\n",
              "      <td>-0.033752</td>\n",
              "      <td>0.365677</td>\n",
              "      <td>0.449608</td>\n",
              "      <td>0.437648</td>\n",
              "      <td>0.404009</td>\n",
              "      <td>0.472299</td>\n",
              "      <td>0.330086</td>\n",
              "      <td>0.410668</td>\n",
              "      <td>1.000000</td>\n",
              "      <td>0.409057</td>\n",
              "    </tr>\n",
              "    <tr>\n",
              "      <th>Class</th>\n",
              "      <td>-0.090036</td>\n",
              "      <td>0.712779</td>\n",
              "      <td>0.811640</td>\n",
              "      <td>0.815862</td>\n",
              "      <td>0.715535</td>\n",
              "      <td>0.688710</td>\n",
              "      <td>0.757129</td>\n",
              "      <td>0.722937</td>\n",
              "      <td>0.409057</td>\n",
              "      <td>1.000000</td>\n",
              "    </tr>\n",
              "  </tbody>\n",
              "</table>\n",
              "</div>\n",
              "      <button class=\"colab-df-convert\" onclick=\"convertToInteractive('df-880abf0b-defa-46d1-9e23-cc36b2fa7198')\"\n",
              "              title=\"Convert this dataframe to an interactive table.\"\n",
              "              style=\"display:none;\">\n",
              "        \n",
              "  <svg xmlns=\"http://www.w3.org/2000/svg\" height=\"24px\"viewBox=\"0 0 24 24\"\n",
              "       width=\"24px\">\n",
              "    <path d=\"M0 0h24v24H0V0z\" fill=\"none\"/>\n",
              "    <path d=\"M18.56 5.44l.94 2.06.94-2.06 2.06-.94-2.06-.94-.94-2.06-.94 2.06-2.06.94zm-11 1L8.5 8.5l.94-2.06 2.06-.94-2.06-.94L8.5 2.5l-.94 2.06-2.06.94zm10 10l.94 2.06.94-2.06 2.06-.94-2.06-.94-.94-2.06-.94 2.06-2.06.94z\"/><path d=\"M17.41 7.96l-1.37-1.37c-.4-.4-.92-.59-1.43-.59-.52 0-1.04.2-1.43.59L10.3 9.45l-7.72 7.72c-.78.78-.78 2.05 0 2.83L4 21.41c.39.39.9.59 1.41.59.51 0 1.02-.2 1.41-.59l7.78-7.78 2.81-2.81c.8-.78.8-2.07 0-2.86zM5.41 20L4 18.59l7.72-7.72 1.47 1.35L5.41 20z\"/>\n",
              "  </svg>\n",
              "      </button>\n",
              "      \n",
              "  <style>\n",
              "    .colab-df-container {\n",
              "      display:flex;\n",
              "      flex-wrap:wrap;\n",
              "      gap: 12px;\n",
              "    }\n",
              "\n",
              "    .colab-df-convert {\n",
              "      background-color: #E8F0FE;\n",
              "      border: none;\n",
              "      border-radius: 50%;\n",
              "      cursor: pointer;\n",
              "      display: none;\n",
              "      fill: #1967D2;\n",
              "      height: 32px;\n",
              "      padding: 0 0 0 0;\n",
              "      width: 32px;\n",
              "    }\n",
              "\n",
              "    .colab-df-convert:hover {\n",
              "      background-color: #E2EBFA;\n",
              "      box-shadow: 0px 1px 2px rgba(60, 64, 67, 0.3), 0px 1px 3px 1px rgba(60, 64, 67, 0.15);\n",
              "      fill: #174EA6;\n",
              "    }\n",
              "\n",
              "    [theme=dark] .colab-df-convert {\n",
              "      background-color: #3B4455;\n",
              "      fill: #D2E3FC;\n",
              "    }\n",
              "\n",
              "    [theme=dark] .colab-df-convert:hover {\n",
              "      background-color: #434B5C;\n",
              "      box-shadow: 0px 1px 3px 1px rgba(0, 0, 0, 0.15);\n",
              "      filter: drop-shadow(0px 1px 2px rgba(0, 0, 0, 0.3));\n",
              "      fill: #FFFFFF;\n",
              "    }\n",
              "  </style>\n",
              "\n",
              "      <script>\n",
              "        const buttonEl =\n",
              "          document.querySelector('#df-880abf0b-defa-46d1-9e23-cc36b2fa7198 button.colab-df-convert');\n",
              "        buttonEl.style.display =\n",
              "          google.colab.kernel.accessAllowed ? 'block' : 'none';\n",
              "\n",
              "        async function convertToInteractive(key) {\n",
              "          const element = document.querySelector('#df-880abf0b-defa-46d1-9e23-cc36b2fa7198');\n",
              "          const dataTable =\n",
              "            await google.colab.kernel.invokeFunction('convertToInteractive',\n",
              "                                                     [key], {});\n",
              "          if (!dataTable) return;\n",
              "\n",
              "          const docLinkHtml = 'Like what you see? Visit the ' +\n",
              "            '<a target=\"_blank\" href=https://colab.research.google.com/notebooks/data_table.ipynb>data table notebook</a>'\n",
              "            + ' to learn more about interactive tables.';\n",
              "          element.innerHTML = '';\n",
              "          dataTable['output_type'] = 'display_data';\n",
              "          await google.colab.output.renderOutput(dataTable, element);\n",
              "          const docLink = document.createElement('div');\n",
              "          docLink.innerHTML = docLinkHtml;\n",
              "          element.appendChild(docLink);\n",
              "        }\n",
              "      </script>\n",
              "    </div>\n",
              "  </div>\n",
              "  "
            ]
          },
          "metadata": {},
          "execution_count": 19
        }
      ]
    },
    {
      "cell_type": "code",
      "source": [
        "fig, ax = plt.subplots(nrows=1, ncols=1, figsize=(8, 8))\n",
        "\n",
        "sns.heatmap(\n",
        "    corr_matrix,\n",
        "    annot     = True,\n",
        "    cbar      = False,\n",
        "    annot_kws = {\"size\": 8},\n",
        "    vmin      = -1,\n",
        "    vmax      = 1,\n",
        "    center    = 0,\n",
        "    cmap      = sns.diverging_palette(20, 220, n=200),\n",
        "    square    = True,\n",
        "    ax        = ax\n",
        ")\n",
        "\n",
        "ax.set_xticklabels(\n",
        "    ax.get_xticklabels(),\n",
        "    rotation = 45,\n",
        "    horizontalalignment = 'right',\n",
        ")\n",
        "\n",
        "ax.tick_params(labelsize = 10)"
      ],
      "metadata": {
        "colab": {
          "base_uri": "https://localhost:8080/",
          "height": 569
        },
        "id": "-UFWsuR6Royb",
        "outputId": "7eff4636-5ace-472f-d739-61cea96276e1"
      },
      "execution_count": 20,
      "outputs": [
        {
          "output_type": "display_data",
          "data": {
            "text/plain": [
              "<Figure size 576x576 with 1 Axes>"
            ],
            "image/png": "[encoded data removed]"
          },
          "metadata": {
            "needs_background": "light"
          }
        }
      ]
    },
    {
      "cell_type": "markdown",
      "source": [
        "correlación positiva moderada entre Mitoses y Class, correlación positiva alta entre el resto de variables excepto ID con el Class .\n"
      ],
      "metadata": {
        "id": "LTTrFVoATuDk"
      }
    },
    {
      "cell_type": "code",
      "source": [
        "! pip install phik"
      ],
      "metadata": {
        "colab": {
          "base_uri": "https://localhost:8080/"
        },
        "id": "Ws7bHdRNTyLl",
        "outputId": "361daed0-5c8c-47ef-c125-21ab50208cd7"
      },
      "execution_count": 21,
      "outputs": [
        {
          "output_type": "stream",
          "name": "stdout",
          "text": [
            "Looking in indexes: https://pypi.org/simple, https://us-python.pkg.dev/colab-wheels/public/simple/\n",
            "Collecting phik\n",
            "  Downloading phik-0.12.2-cp37-cp37m-manylinux_2_17_x86_64.manylinux2014_x86_64.whl (690 kB)\n",
            "\u001b[K     |████████████████████████████████| 690 kB 4.7 MB/s \n",
            "\u001b[?25hRequirement already satisfied: joblib>=0.14.1 in /usr/local/lib/python3.7/dist-packages (from phik) (1.2.0)\n",
            "Requirement already satisfied: numpy>=1.18.0 in /usr/local/lib/python3.7/dist-packages (from phik) (1.21.6)\n",
            "Requirement already satisfied: pandas>=0.25.1 in /usr/local/lib/python3.7/dist-packages (from phik) (1.3.5)\n",
            "Requirement already satisfied: matplotlib>=2.2.3 in /usr/local/lib/python3.7/dist-packages (from phik) (3.2.2)\n",
            "Requirement already satisfied: scipy>=1.5.2 in /usr/local/lib/python3.7/dist-packages (from phik) (1.7.3)\n",
            "Requirement already satisfied: python-dateutil>=2.1 in /usr/local/lib/python3.7/dist-packages (from matplotlib>=2.2.3->phik) (2.8.2)\n",
            "Requirement already satisfied: pyparsing!=2.0.4,!=2.1.2,!=2.1.6,>=2.0.1 in /usr/local/lib/python3.7/dist-packages (from matplotlib>=2.2.3->phik) (3.0.9)\n",
            "Requirement already satisfied: cycler>=0.10 in /usr/local/lib/python3.7/dist-packages (from matplotlib>=2.2.3->phik) (0.11.0)\n",
            "Requirement already satisfied: kiwisolver>=1.0.1 in /usr/local/lib/python3.7/dist-packages (from matplotlib>=2.2.3->phik) (1.4.4)\n",
            "Requirement already satisfied: typing-extensions in /usr/local/lib/python3.7/dist-packages (from kiwisolver>=1.0.1->matplotlib>=2.2.3->phik) (4.1.1)\n",
            "Requirement already satisfied: pytz>=2017.3 in /usr/local/lib/python3.7/dist-packages (from pandas>=0.25.1->phik) (2022.5)\n",
            "Requirement already satisfied: six>=1.5 in /usr/local/lib/python3.7/dist-packages (from python-dateutil>=2.1->matplotlib>=2.2.3->phik) (1.15.0)\n",
            "Installing collected packages: phik\n",
            "Successfully installed phik-0.12.2\n"
          ]
        }
      ]
    },
    {
      "cell_type": "code",
      "source": [
        "import phik"
      ],
      "metadata": {
        "id": "ar4DHgtsT8Uj"
      },
      "execution_count": 22,
      "outputs": []
    },
    {
      "cell_type": "code",
      "source": [
        "phik_overview = datos.phik_matrix()"
      ],
      "metadata": {
        "colab": {
          "base_uri": "https://localhost:8080/"
        },
        "id": "cBuaZQrLT9YN",
        "outputId": "a71086b9-2028-4fb1-b27f-f455be12841c"
      },
      "execution_count": 23,
      "outputs": [
        {
          "output_type": "stream",
          "name": "stdout",
          "text": [
            "interval columns not set, guessing: ['ID', 'Clump Thickness', 'Uniformity of Cell Size', 'Uniformity of Cell Shape', 'Marginal Adhesion', 'Single Epithelial Cell Size', 'Bland Chromatin', 'Normal Nucleoli', 'Mitoses', 'Class']\n"
          ]
        }
      ]
    },
    {
      "cell_type": "code",
      "source": [
        "phik_overview['Class'].sort_values(ascending=False)"
      ],
      "metadata": {
        "colab": {
          "base_uri": "https://localhost:8080/"
        },
        "id": "Dl1EN5hDUTLD",
        "outputId": "4fafeaa1-ac14-4d16-ec8f-9396179ae7dd"
      },
      "execution_count": 24,
      "outputs": [
        {
          "output_type": "execute_result",
          "data": {
            "text/plain": [
              "Class                          1.000000\n",
              "Uniformity of Cell Size        0.980672\n",
              "Uniformity of Cell Shape       0.976782\n",
              "Bare Nuclei                    0.964891\n",
              "Bland Chromatin                0.952297\n",
              "Single Epithelial Cell Size    0.947251\n",
              "Normal Nucleoli                0.935505\n",
              "Marginal Adhesion              0.917237\n",
              "Clump Thickness                0.902653\n",
              "Mitoses                        0.501659\n",
              "ID                             0.000000\n",
              "Name: Class, dtype: float64"
            ]
          },
          "metadata": {},
          "execution_count": 24
        }
      ]
    },
    {
      "cell_type": "code",
      "source": [
        "from phik import report"
      ],
      "metadata": {
        "id": "zAJS4xooX8Q8"
      },
      "execution_count": 25,
      "outputs": []
    },
    {
      "cell_type": "code",
      "source": [
        "report.plot_correlation_matrix(phik_overview.values, \n",
        "                        x_labels=phik_overview.columns, \n",
        "                        y_labels=phik_overview.index, \n",
        "                        vmin=0, vmax=1, color_map=\"Greens\", \n",
        "                        title=r\"correlation $\\phi_K$\", \n",
        "                        fontsize_factor=1.2, \n",
        "                        figsize=(12, 10))\n",
        "\n",
        "plt.tight_layout()"
      ],
      "metadata": {
        "colab": {
          "base_uri": "https://localhost:8080/",
          "height": 729
        },
        "id": "e34JxbP5VTEd",
        "outputId": "7d676164-aa1b-4999-b0de-07940691ad69"
      },
      "execution_count": 26,
      "outputs": [
        {
          "output_type": "display_data",
          "data": {
            "text/plain": [
              "<Figure size 864x720 with 2 Axes>"
            ],
            "image/png": "[encoded data removed]"
          },
          "metadata": {
            "needs_background": "light"
          }
        }
      ]
    },
    {
      "cell_type": "markdown",
      "source": [
        "## Entrenamos diferentes modelos variando el algoritmo y los hiperparámetros de los mismos"
      ],
      "metadata": {
        "id": "bLnytfLWS0jv"
      }
    },
    {
      "cell_type": "code",
      "source": [
        "from sklearn.metrics import f1_score"
      ],
      "metadata": {
        "id": "8CdEtdpi9VYQ"
      },
      "execution_count": 27,
      "outputs": []
    },
    {
      "cell_type": "code",
      "source": [
        "from sklearn.metrics import roc_auc_score"
      ],
      "metadata": {
        "id": "RKEYFfYxBPWj"
      },
      "execution_count": 28,
      "outputs": []
    },
    {
      "cell_type": "code",
      "source": [
        "# importamos la métrica\n",
        "from sklearn.metrics import accuracy_score\n"
      ],
      "metadata": {
        "id": "C5RQQVpiiR0E"
      },
      "execution_count": 29,
      "outputs": []
    },
    {
      "cell_type": "markdown",
      "source": [
        "Nuestro dataset no es balanceado. Para los modelos de clasificación tenemos que balancearlo antes de pasar a machine learning.\n",
        "\n",
        "---\n",
        "\n"
      ],
      "metadata": {
        "id": "Q5l7Rhtr8HUu"
      }
    },
    {
      "cell_type": "markdown",
      "source": [
        "como tenemos pocos datos hay que optar por upsampling  - añadir las muestras del valor minoritario."
      ],
      "metadata": {
        "id": "VcYB9Tr2j37-"
      }
    },
    {
      "cell_type": "code",
      "source": [
        "datos.Class.value_counts()"
      ],
      "metadata": {
        "colab": {
          "base_uri": "https://localhost:8080/"
        },
        "outputId": "67a54f8f-353e-44c9-e1dd-34af1ea44730",
        "id": "dbWbZfQuj37-"
      },
      "execution_count": 30,
      "outputs": [
        {
          "output_type": "execute_result",
          "data": {
            "text/plain": [
              "0    377\n",
              "1    203\n",
              "Name: Class, dtype: int64"
            ]
          },
          "metadata": {},
          "execution_count": 30
        }
      ]
    },
    {
      "cell_type": "code",
      "source": [
        "from sklearn.utils import resample\n",
        "\n",
        "datos_majority = datos[datos.Class==0]\n",
        "datos_minority = datos[datos.Class==1]\n",
        "\n",
        "# Upsample minority class\n",
        "datos_minority_upsampled = resample(datos_minority, \n",
        "                                 replace=True,     # sample with replacement\n",
        "                                 n_samples=377,    # to match majority class\n",
        "                                 random_state=42) # reproducible results\n",
        "\n",
        "# Combine majority class with upsampled minority class\n",
        "datos_upsampled = pd.concat([datos_majority, datos_minority_upsampled])\n",
        "\n",
        "# Display new class counts\n",
        "datos_upsampled.Class.value_counts()"
      ],
      "metadata": {
        "colab": {
          "base_uri": "https://localhost:8080/"
        },
        "outputId": "33f2ae78-9aa5-4902-8803-e33641b36bf4",
        "id": "VsE7lnb8j37_"
      },
      "execution_count": 31,
      "outputs": [
        {
          "output_type": "execute_result",
          "data": {
            "text/plain": [
              "0    377\n",
              "1    377\n",
              "Name: Class, dtype: int64"
            ]
          },
          "metadata": {},
          "execution_count": 31
        }
      ]
    },
    {
      "cell_type": "code",
      "source": [
        "datos_upsampled"
      ],
      "metadata": {
        "colab": {
          "base_uri": "https://localhost:8080/",
          "height": 423
        },
        "outputId": "311bfc34-7160-41c6-bf66-3b76b3abe3b3",
        "id": "l9Ua8M__j37_"
      },
      "execution_count": 32,
      "outputs": [
        {
          "output_type": "execute_result",
          "data": {
            "text/plain": [
              "          ID  Clump Thickness  Uniformity of Cell Size  \\\n",
              "0    1000025                5                        1   \n",
              "1    1002945                5                        4   \n",
              "2    1015425                3                        1   \n",
              "3    1016277                6                        8   \n",
              "4    1017023                4                        1   \n",
              "..       ...              ...                      ...   \n",
              "223   263538                5                       10   \n",
              "276   733823                5                        4   \n",
              "76   1148873                3                        6   \n",
              "49   1113038                8                        2   \n",
              "209   144888                8                       10   \n",
              "\n",
              "     Uniformity of Cell Shape  Marginal Adhesion  Single Epithelial Cell Size  \\\n",
              "0                           1                  1                            2   \n",
              "1                           4                  5                            7   \n",
              "2                           1                  1                            2   \n",
              "3                           8                  1                            3   \n",
              "4                           1                  3                            2   \n",
              "..                        ...                ...                          ...   \n",
              "223                        10                  6                           10   \n",
              "276                         6                 10                            2   \n",
              "76                          6                  6                            5   \n",
              "49                          4                  1                            5   \n",
              "209                        10                  8                            5   \n",
              "\n",
              "    Bare Nuclei  Bland Chromatin  Normal Nucleoli  Mitoses  Class  \n",
              "0             1                3                1        1      0  \n",
              "1            10                3                2        1      0  \n",
              "2             2                3                1        1      0  \n",
              "3             4                3                7        1      0  \n",
              "4             1                3                1        1      0  \n",
              "..          ...              ...              ...      ...    ...  \n",
              "223          10               10                6        5      1  \n",
              "276          10                4                1        1      1  \n",
              "76           10                6                8        3      1  \n",
              "49            1                5                4        4      1  \n",
              "209          10                7                8        1      1  \n",
              "\n",
              "[754 rows x 11 columns]"
            ],
            "text/html": [
              "\n",
              "  <div id=\"df-e472d30a-d7d4-43c3-86bf-0b90cf161f00\">\n",
              "    <div class=\"colab-df-container\">\n",
              "      <div>\n",
              "<style scoped>\n",
              "    .dataframe tbody tr th:only-of-type {\n",
              "        vertical-align: middle;\n",
              "    }\n",
              "\n",
              "    .dataframe tbody tr th {\n",
              "        vertical-align: top;\n",
              "    }\n",
              "\n",
              "    .dataframe thead th {\n",
              "        text-align: right;\n",
              "    }\n",
              "</style>\n",
              "<table border=\"1\" class=\"dataframe\">\n",
              "  <thead>\n",
              "    <tr style=\"text-align: right;\">\n",
              "      <th></th>\n",
              "      <th>ID</th>\n",
              "      <th>Clump Thickness</th>\n",
              "      <th>Uniformity of Cell Size</th>\n",
              "      <th>Uniformity of Cell Shape</th>\n",
              "      <th>Marginal Adhesion</th>\n",
              "      <th>Single Epithelial Cell Size</th>\n",
              "      <th>Bare Nuclei</th>\n",
              "      <th>Bland Chromatin</th>\n",
              "      <th>Normal Nucleoli</th>\n",
              "      <th>Mitoses</th>\n",
              "      <th>Class</th>\n",
              "    </tr>\n",
              "  </thead>\n",
              "  <tbody>\n",
              "    <tr>\n",
              "      <th>0</th>\n",
              "      <td>1000025</td>\n",
              "      <td>5</td>\n",
              "      <td>1</td>\n",
              "      <td>1</td>\n",
              "      <td>1</td>\n",
              "      <td>2</td>\n",
              "      <td>1</td>\n",
              "      <td>3</td>\n",
              "      <td>1</td>\n",
              "      <td>1</td>\n",
              "      <td>0</td>\n",
              "    </tr>\n",
              "    <tr>\n",
              "      <th>1</th>\n",
              "      <td>1002945</td>\n",
              "      <td>5</td>\n",
              "      <td>4</td>\n",
              "      <td>4</td>\n",
              "      <td>5</td>\n",
              "      <td>7</td>\n",
              "      <td>10</td>\n",
              "      <td>3</td>\n",
              "      <td>2</td>\n",
              "      <td>1</td>\n",
              "      <td>0</td>\n",
              "    </tr>\n",
              "    <tr>\n",
              "      <th>2</th>\n",
              "      <td>1015425</td>\n",
              "      <td>3</td>\n",
              "      <td>1</td>\n",
              "      <td>1</td>\n",
              "      <td>1</td>\n",
              "      <td>2</td>\n",
              "      <td>2</td>\n",
              "      <td>3</td>\n",
              "      <td>1</td>\n",
              "      <td>1</td>\n",
              "      <td>0</td>\n",
              "    </tr>\n",
              "    <tr>\n",
              "      <th>3</th>\n",
              "      <td>1016277</td>\n",
              "      <td>6</td>\n",
              "      <td>8</td>\n",
              "      <td>8</td>\n",
              "      <td>1</td>\n",
              "      <td>3</td>\n",
              "      <td>4</td>\n",
              "      <td>3</td>\n",
              "      <td>7</td>\n",
              "      <td>1</td>\n",
              "      <td>0</td>\n",
              "    </tr>\n",
              "    <tr>\n",
              "      <th>4</th>\n",
              "      <td>1017023</td>\n",
              "      <td>4</td>\n",
              "      <td>1</td>\n",
              "      <td>1</td>\n",
              "      <td>3</td>\n",
              "      <td>2</td>\n",
              "      <td>1</td>\n",
              "      <td>3</td>\n",
              "      <td>1</td>\n",
              "      <td>1</td>\n",
              "      <td>0</td>\n",
              "    </tr>\n",
              "    <tr>\n",
              "      <th>...</th>\n",
              "      <td>...</td>\n",
              "      <td>...</td>\n",
              "      <td>...</td>\n",
              "      <td>...</td>\n",
              "      <td>...</td>\n",
              "      <td>...</td>\n",
              "      <td>...</td>\n",
              "      <td>...</td>\n",
              "      <td>...</td>\n",
              "      <td>...</td>\n",
              "      <td>...</td>\n",
              "    </tr>\n",
              "    <tr>\n",
              "      <th>223</th>\n",
              "      <td>263538</td>\n",
              "      <td>5</td>\n",
              "      <td>10</td>\n",
              "      <td>10</td>\n",
              "      <td>6</td>\n",
              "      <td>10</td>\n",
              "      <td>10</td>\n",
              "      <td>10</td>\n",
              "      <td>6</td>\n",
              "      <td>5</td>\n",
              "      <td>1</td>\n",
              "    </tr>\n",
              "    <tr>\n",
              "      <th>276</th>\n",
              "      <td>733823</td>\n",
              "      <td>5</td>\n",
              "      <td>4</td>\n",
              "      <td>6</td>\n",
              "      <td>10</td>\n",
              "      <td>2</td>\n",
              "      <td>10</td>\n",
              "      <td>4</td>\n",
              "      <td>1</td>\n",
              "      <td>1</td>\n",
              "      <td>1</td>\n",
              "    </tr>\n",
              "    <tr>\n",
              "      <th>76</th>\n",
              "      <td>1148873</td>\n",
              "      <td>3</td>\n",
              "      <td>6</td>\n",
              "      <td>6</td>\n",
              "      <td>6</td>\n",
              "      <td>5</td>\n",
              "      <td>10</td>\n",
              "      <td>6</td>\n",
              "      <td>8</td>\n",
              "      <td>3</td>\n",
              "      <td>1</td>\n",
              "    </tr>\n",
              "    <tr>\n",
              "      <th>49</th>\n",
              "      <td>1113038</td>\n",
              "      <td>8</td>\n",
              "      <td>2</td>\n",
              "      <td>4</td>\n",
              "      <td>1</td>\n",
              "      <td>5</td>\n",
              "      <td>1</td>\n",
              "      <td>5</td>\n",
              "      <td>4</td>\n",
              "      <td>4</td>\n",
              "      <td>1</td>\n",
              "    </tr>\n",
              "    <tr>\n",
              "      <th>209</th>\n",
              "      <td>144888</td>\n",
              "      <td>8</td>\n",
              "      <td>10</td>\n",
              "      <td>10</td>\n",
              "      <td>8</td>\n",
              "      <td>5</td>\n",
              "      <td>10</td>\n",
              "      <td>7</td>\n",
              "      <td>8</td>\n",
              "      <td>1</td>\n",
              "      <td>1</td>\n",
              "    </tr>\n",
              "  </tbody>\n",
              "</table>\n",
              "<p>754 rows × 11 columns</p>\n",
              "</div>\n",
              "      <button class=\"colab-df-convert\" onclick=\"convertToInteractive('df-e472d30a-d7d4-43c3-86bf-0b90cf161f00')\"\n",
              "              title=\"Convert this dataframe to an interactive table.\"\n",
              "              style=\"display:none;\">\n",
              "        \n",
              "  <svg xmlns=\"http://www.w3.org/2000/svg\" height=\"24px\"viewBox=\"0 0 24 24\"\n",
              "       width=\"24px\">\n",
              "    <path d=\"M0 0h24v24H0V0z\" fill=\"none\"/>\n",
              "    <path d=\"M18.56 5.44l.94 2.06.94-2.06 2.06-.94-2.06-.94-.94-2.06-.94 2.06-2.06.94zm-11 1L8.5 8.5l.94-2.06 2.06-.94-2.06-.94L8.5 2.5l-.94 2.06-2.06.94zm10 10l.94 2.06.94-2.06 2.06-.94-2.06-.94-.94-2.06-.94 2.06-2.06.94z\"/><path d=\"M17.41 7.96l-1.37-1.37c-.4-.4-.92-.59-1.43-.59-.52 0-1.04.2-1.43.59L10.3 9.45l-7.72 7.72c-.78.78-.78 2.05 0 2.83L4 21.41c.39.39.9.59 1.41.59.51 0 1.02-.2 1.41-.59l7.78-7.78 2.81-2.81c.8-.78.8-2.07 0-2.86zM5.41 20L4 18.59l7.72-7.72 1.47 1.35L5.41 20z\"/>\n",
              "  </svg>\n",
              "      </button>\n",
              "      \n",
              "  <style>\n",
              "    .colab-df-container {\n",
              "      display:flex;\n",
              "      flex-wrap:wrap;\n",
              "      gap: 12px;\n",
              "    }\n",
              "\n",
              "    .colab-df-convert {\n",
              "      background-color: #E8F0FE;\n",
              "      border: none;\n",
              "      border-radius: 50%;\n",
              "      cursor: pointer;\n",
              "      display: none;\n",
              "      fill: #1967D2;\n",
              "      height: 32px;\n",
              "      padding: 0 0 0 0;\n",
              "      width: 32px;\n",
              "    }\n",
              "\n",
              "    .colab-df-convert:hover {\n",
              "      background-color: #E2EBFA;\n",
              "      box-shadow: 0px 1px 2px rgba(60, 64, 67, 0.3), 0px 1px 3px 1px rgba(60, 64, 67, 0.15);\n",
              "      fill: #174EA6;\n",
              "    }\n",
              "\n",
              "    [theme=dark] .colab-df-convert {\n",
              "      background-color: #3B4455;\n",
              "      fill: #D2E3FC;\n",
              "    }\n",
              "\n",
              "    [theme=dark] .colab-df-convert:hover {\n",
              "      background-color: #434B5C;\n",
              "      box-shadow: 0px 1px 3px 1px rgba(0, 0, 0, 0.15);\n",
              "      filter: drop-shadow(0px 1px 2px rgba(0, 0, 0, 0.3));\n",
              "      fill: #FFFFFF;\n",
              "    }\n",
              "  </style>\n",
              "\n",
              "      <script>\n",
              "        const buttonEl =\n",
              "          document.querySelector('#df-e472d30a-d7d4-43c3-86bf-0b90cf161f00 button.colab-df-convert');\n",
              "        buttonEl.style.display =\n",
              "          google.colab.kernel.accessAllowed ? 'block' : 'none';\n",
              "\n",
              "        async function convertToInteractive(key) {\n",
              "          const element = document.querySelector('#df-e472d30a-d7d4-43c3-86bf-0b90cf161f00');\n",
              "          const dataTable =\n",
              "            await google.colab.kernel.invokeFunction('convertToInteractive',\n",
              "                                                     [key], {});\n",
              "          if (!dataTable) return;\n",
              "\n",
              "          const docLinkHtml = 'Like what you see? Visit the ' +\n",
              "            '<a target=\"_blank\" href=https://colab.research.google.com/notebooks/data_table.ipynb>data table notebook</a>'\n",
              "            + ' to learn more about interactive tables.';\n",
              "          element.innerHTML = '';\n",
              "          dataTable['output_type'] = 'display_data';\n",
              "          await google.colab.output.renderOutput(dataTable, element);\n",
              "          const docLink = document.createElement('div');\n",
              "          docLink.innerHTML = docLinkHtml;\n",
              "          element.appendChild(docLink);\n",
              "        }\n",
              "      </script>\n",
              "    </div>\n",
              "  </div>\n",
              "  "
            ]
          },
          "metadata": {},
          "execution_count": 32
        }
      ]
    },
    {
      "cell_type": "code",
      "source": [
        "datos_upsampled['Class'].value_counts()"
      ],
      "metadata": {
        "colab": {
          "base_uri": "https://localhost:8080/"
        },
        "outputId": "113a5606-9ff0-4d67-9bf9-d39620cbbdf4",
        "id": "By77PORoj37_"
      },
      "execution_count": 33,
      "outputs": [
        {
          "output_type": "execute_result",
          "data": {
            "text/plain": [
              "0    377\n",
              "1    377\n",
              "Name: Class, dtype: int64"
            ]
          },
          "metadata": {},
          "execution_count": 33
        }
      ]
    },
    {
      "cell_type": "code",
      "source": [
        "from sklearn.model_selection import train_test_split "
      ],
      "metadata": {
        "id": "lWk9ciXXkXie"
      },
      "execution_count": 34,
      "outputs": []
    },
    {
      "cell_type": "code",
      "source": [
        "train, test = train_test_split(datos_upsampled, train_size=0.6, random_state=42, stratify =datos_upsampled['Class'])"
      ],
      "metadata": {
        "id": "vYN9CXPWlALw"
      },
      "execution_count": 35,
      "outputs": []
    },
    {
      "cell_type": "code",
      "source": [
        "val, test = train_test_split(test, train_size=0.5, random_state=42, stratify=test['Class'])"
      ],
      "metadata": {
        "id": "UY-KyDwolAME"
      },
      "execution_count": 36,
      "outputs": []
    },
    {
      "cell_type": "code",
      "source": [
        "X_train = train.iloc[:,0:10]"
      ],
      "metadata": {
        "id": "w42qEVO8lAME"
      },
      "execution_count": 37,
      "outputs": []
    },
    {
      "cell_type": "code",
      "source": [
        "y_train = train['Class']\n"
      ],
      "metadata": {
        "id": "HxVRFVcYlAMF"
      },
      "execution_count": 38,
      "outputs": []
    },
    {
      "cell_type": "code",
      "source": [
        "X_val = val.iloc[:,0:10]\n"
      ],
      "metadata": {
        "id": "RuGJ73pglAMG"
      },
      "execution_count": 39,
      "outputs": []
    },
    {
      "cell_type": "code",
      "source": [
        "y_val = val['Class']\n"
      ],
      "metadata": {
        "id": "Z6n5xFHllAMG"
      },
      "execution_count": 40,
      "outputs": []
    },
    {
      "cell_type": "code",
      "source": [
        "X_test = test.iloc[:,0:10]\n"
      ],
      "metadata": {
        "id": "VrEA7z4vlAMH"
      },
      "execution_count": 41,
      "outputs": []
    },
    {
      "cell_type": "code",
      "source": [
        "y_test = test['Class']\n"
      ],
      "metadata": {
        "id": "HMdl0MudlAMI"
      },
      "execution_count": 42,
      "outputs": []
    },
    {
      "cell_type": "code",
      "source": [
        "len(X_train)+len(X_val)+len(X_test) #comprobamos que no hemos perdido los datos"
      ],
      "metadata": {
        "colab": {
          "base_uri": "https://localhost:8080/"
        },
        "outputId": "aca23c10-b98f-4324-f019-d31b9a52825f",
        "id": "lAcwu3calAMI"
      },
      "execution_count": 43,
      "outputs": [
        {
          "output_type": "execute_result",
          "data": {
            "text/plain": [
              "754"
            ]
          },
          "metadata": {},
          "execution_count": 43
        }
      ]
    },
    {
      "cell_type": "markdown",
      "source": [
        "### Regresión Logística"
      ],
      "metadata": {
        "id": "vo2ootbhUQ-W"
      }
    },
    {
      "cell_type": "code",
      "source": [
        "from sklearn.linear_model import LogisticRegression\n",
        "\n",
        "# seleccionamos el modelo\n",
        "log_reg = LogisticRegression()\n",
        "\n",
        "# entrenamos con los datos de entrenamiento\n",
        "log_reg.fit(X_train, y_train)"
      ],
      "metadata": {
        "colab": {
          "base_uri": "https://localhost:8080/"
        },
        "outputId": "2b4e7478-413e-43b1-f6b5-2b40ba87622f",
        "id": "vHVqEonglisi"
      },
      "execution_count": 44,
      "outputs": [
        {
          "output_type": "execute_result",
          "data": {
            "text/plain": [
              "LogisticRegression()"
            ]
          },
          "metadata": {},
          "execution_count": 44
        }
      ]
    },
    {
      "cell_type": "code",
      "source": [
        "\n",
        "# predecimos los valores con X_val\n",
        "y_predict_log_reg = log_reg.predict(X_val)\n",
        "\n"
      ],
      "metadata": {
        "id": "uNMxDDJjlis9"
      },
      "execution_count": 45,
      "outputs": []
    },
    {
      "cell_type": "code",
      "source": [
        "\n",
        "# calculamos el accuracy comparando los datos predichos con los de validación\n",
        "print('Accuracy: ', accuracy_score(y_val, y_predict_log_reg))\n",
        "print('ROC: ',roc_auc_score(y_val,y_predict_log_reg))\n",
        "print('F1: ', f1_score(y_val, y_predict_log_reg))\n"
      ],
      "metadata": {
        "colab": {
          "base_uri": "https://localhost:8080/"
        },
        "id": "Qa_EyqTpl1dQ",
        "outputId": "27f9702d-96b6-41e3-e472-2e029eac9f84"
      },
      "execution_count": 46,
      "outputs": [
        {
          "output_type": "stream",
          "name": "stdout",
          "text": [
            "Accuracy:  0.9072847682119205\n",
            "ROC:  0.9073684210526316\n",
            "F1:  0.9066666666666667\n"
          ]
        }
      ]
    },
    {
      "cell_type": "code",
      "source": [
        "y_test_predict_log_reg = log_reg.predict(X_test) # validamos el modelo con test\n"
      ],
      "metadata": {
        "id": "q1JYGYSY297v"
      },
      "execution_count": 47,
      "outputs": []
    },
    {
      "cell_type": "code",
      "source": [
        "print('Accuracy: ', accuracy_score(y_test, y_test_predict_log_reg))\n",
        "print('ROC: ',roc_auc_score(y_test,y_test_predict_log_reg))\n",
        "print('F1: ', f1_score(y_test, y_test_predict_log_reg))\n"
      ],
      "metadata": {
        "colab": {
          "base_uri": "https://localhost:8080/"
        },
        "id": "QQI5LiuK3dQw",
        "outputId": "3ead2802-614f-4bf9-e47c-5809c9313f67"
      },
      "execution_count": 48,
      "outputs": [
        {
          "output_type": "stream",
          "name": "stdout",
          "text": [
            "Accuracy:  0.9403973509933775\n",
            "ROC:  0.9403508771929825\n",
            "F1:  0.9395973154362416\n"
          ]
        }
      ]
    },
    {
      "cell_type": "markdown",
      "source": [
        "### Modelo KNN"
      ],
      "metadata": {
        "id": "Cwpw9Ko8-YJR"
      }
    },
    {
      "cell_type": "code",
      "source": [
        "from sklearn.model_selection import GridSearchCV\n",
        "from sklearn.neighbors import KNeighborsClassifier\n",
        "\n",
        "\n",
        "knn_cf = KNeighborsClassifier()\n",
        "\n",
        "k_range = list(range(1, 31))\n",
        "param_grid = dict(n_neighbors=k_range)\n",
        "  \n",
        "# defining parameter range\n",
        "gs_knn = GridSearchCV(knn_cf, param_grid, cv=10, scoring='accuracy', return_train_score=False,verbose=1) #definimos los parametros\n",
        "  \n",
        "\n",
        "grid_search=gs_knn.fit(X_train, y_train)"
      ],
      "metadata": {
        "colab": {
          "base_uri": "https://localhost:8080/"
        },
        "id": "nqbCqpLm-XNo",
        "outputId": "3aa3b453-5e14-4501-ff3e-8bdb2c87c3aa"
      },
      "execution_count": 49,
      "outputs": [
        {
          "output_type": "stream",
          "name": "stdout",
          "text": [
            "Fitting 10 folds for each of 30 candidates, totalling 300 fits\n"
          ]
        }
      ]
    },
    {
      "cell_type": "code",
      "source": [
        "print(grid_search.best_params_)\n"
      ],
      "metadata": {
        "colab": {
          "base_uri": "https://localhost:8080/"
        },
        "id": "00mORRyd_Ui6",
        "outputId": "24272d5c-5125-40aa-cae4-81b3645c12e6"
      },
      "execution_count": 50,
      "outputs": [
        {
          "output_type": "stream",
          "name": "stdout",
          "text": [
            "{'n_neighbors': 1}\n"
          ]
        }
      ]
    },
    {
      "cell_type": "code",
      "source": [
        "accuracy = round((grid_search.best_score_ *100),2)\n",
        "print(\"Accuracy de nuestro dataset con mejores parametros es : \", accuracy )"
      ],
      "metadata": {
        "colab": {
          "base_uri": "https://localhost:8080/"
        },
        "id": "r2lPXDgWCSUC",
        "outputId": "01f48c01-211d-48f4-f555-265b1204553d"
      },
      "execution_count": 51,
      "outputs": [
        {
          "output_type": "stream",
          "name": "stdout",
          "text": [
            "Accuracy de nuestro dataset con mejores parametros es :  75.24\n"
          ]
        }
      ]
    },
    {
      "cell_type": "markdown",
      "source": [
        "### Modelo de Random Forest\n",
        "\n",
        "\n",
        "\n"
      ],
      "metadata": {
        "id": "ke8x5SGYTYUY"
      }
    },
    {
      "cell_type": "code",
      "source": [
        "from sklearn.ensemble import RandomForestClassifier\n",
        "rf_clf = RandomForestClassifier(max_depth=2, random_state=0)\n",
        "rf_clf.fit(X_train, y_train)\n",
        "\n",
        "y_predict_rf_clf = rf_clf.predict(X_val)  #validamos el modelo con el conjunto de validación\n"
      ],
      "metadata": {
        "id": "IqbAxa-PV04-"
      },
      "execution_count": 52,
      "outputs": []
    },
    {
      "cell_type": "code",
      "source": [
        "print('Accuracy: ', accuracy_score(y_val, y_predict_rf_clf)) #vemos las metricas con el conjunto de validación\n",
        "print('ROC: ',roc_auc_score(y_val,y_predict_rf_clf))\n",
        "print('F1: ', f1_score(y_val, y_predict_rf_clf))"
      ],
      "metadata": {
        "colab": {
          "base_uri": "https://localhost:8080/"
        },
        "id": "I3DZUABeV90F",
        "outputId": "7465b834-d09e-409c-ab1e-cecdc8c211a2"
      },
      "execution_count": 53,
      "outputs": [
        {
          "output_type": "stream",
          "name": "stdout",
          "text": [
            "Accuracy:  0.9602649006622517\n",
            "ROC:  0.9601754385964912\n",
            "F1:  0.9610389610389611\n"
          ]
        }
      ]
    },
    {
      "cell_type": "code",
      "source": [
        "y_test_predict_rf_clf = rf_clf.predict(X_test) # predecimos con los datos de test"
      ],
      "metadata": {
        "id": "LWZiPrWSWf7s"
      },
      "execution_count": 54,
      "outputs": []
    },
    {
      "cell_type": "code",
      "source": [
        "print('Accuracy: ', accuracy_score(y_test, y_test_predict_rf_clf)) #las metricas con test\n",
        "print('ROC: ',roc_auc_score(y_test,y_test_predict_rf_clf))\n",
        "print('F1: ', f1_score(y_test, y_test_predict_rf_clf))"
      ],
      "metadata": {
        "colab": {
          "base_uri": "https://localhost:8080/"
        },
        "id": "VGz3OOf1V04-",
        "outputId": "a0697ce4-e62c-4077-9481-c79c629e1e26"
      },
      "execution_count": 55,
      "outputs": [
        {
          "output_type": "stream",
          "name": "stdout",
          "text": [
            "Accuracy:  0.9933774834437086\n",
            "ROC:  0.9933333333333334\n",
            "F1:  0.9932885906040269\n"
          ]
        }
      ]
    },
    {
      "cell_type": "markdown",
      "source": [
        "## Grid Search basado en validación cruzada"
      ],
      "metadata": {
        "id": "tr-x_1cwr_dA"
      }
    },
    {
      "cell_type": "code",
      "source": [
        "from sklearn.model_selection import cross_val_score\n",
        "from sklearn.model_selection import RepeatedKFold\n",
        "from sklearn.model_selection import GridSearchCV\n",
        "from sklearn.model_selection import ParameterGrid\n",
        "import multiprocessing"
      ],
      "metadata": {
        "id": "ox3i2H6RtRaG"
      },
      "execution_count": 56,
      "outputs": []
    },
    {
      "cell_type": "code",
      "source": [
        "train, test = train_test_split(datos_upsampled, train_size=0.8, random_state=42, stratify =datos_upsampled['Class'])"
      ],
      "metadata": {
        "id": "p9Iylt1YscDm"
      },
      "execution_count": 57,
      "outputs": []
    },
    {
      "cell_type": "code",
      "source": [
        "X_train = train.iloc[:,0:10]\n"
      ],
      "metadata": {
        "id": "EWQkB3WrscDp"
      },
      "execution_count": 58,
      "outputs": []
    },
    {
      "cell_type": "code",
      "source": [
        "y_train = train['Class']\n"
      ],
      "metadata": {
        "id": "mFwwqMKIscDq"
      },
      "execution_count": 59,
      "outputs": []
    },
    {
      "cell_type": "code",
      "source": [
        "X_test = test.iloc[:,0:10]\n"
      ],
      "metadata": {
        "id": "Taf2qSgkscDs"
      },
      "execution_count": 60,
      "outputs": []
    },
    {
      "cell_type": "code",
      "source": [
        "y_test = test['Class']\n"
      ],
      "metadata": {
        "id": "ZC2XdhX3scDs"
      },
      "execution_count": 61,
      "outputs": []
    },
    {
      "cell_type": "code",
      "source": [
        "param_grid = {'n_estimators': [150],\n",
        "              'max_features': [5, 7, 9],\n",
        "              'max_depth'   : [None, 3, 10, 20],\n",
        "              'criterion'   : ['gini', 'entropy']}"
      ],
      "metadata": {
        "id": "jpdxtkmkW17E"
      },
      "execution_count": 62,
      "outputs": []
    },
    {
      "cell_type": "code",
      "source": [
        "grid = GridSearchCV(\n",
        "        estimator  = RandomForestClassifier(random_state = 42),\n",
        "        param_grid = param_grid,\n",
        "        scoring    = 'accuracy',\n",
        "        n_jobs     = multiprocessing.cpu_count() - 1,\n",
        "        cv         = RepeatedKFold(n_splits=5, n_repeats=3, random_state=42), \n",
        "        refit      = True,\n",
        "        verbose    = 0,\n",
        "        return_train_score = True\n",
        "       )\n",
        "\n",
        "grid.fit(X = X_train, y = y_train)"
      ],
      "metadata": {
        "colab": {
          "base_uri": "https://localhost:8080/"
        },
        "id": "uRXQX2QwtBaH",
        "outputId": "52821816-7924-4f0e-9caa-8000641b0a74"
      },
      "execution_count": 63,
      "outputs": [
        {
          "output_type": "execute_result",
          "data": {
            "text/plain": [
              "GridSearchCV(cv=RepeatedKFold(n_repeats=3, n_splits=5, random_state=42),\n",
              "             estimator=RandomForestClassifier(random_state=42), n_jobs=1,\n",
              "             param_grid={'criterion': ['gini', 'entropy'],\n",
              "                         'max_depth': [None, 3, 10, 20],\n",
              "                         'max_features': [5, 7, 9], 'n_estimators': [150]},\n",
              "             return_train_score=True, scoring='accuracy')"
            ]
          },
          "metadata": {},
          "execution_count": 63
        }
      ]
    },
    {
      "cell_type": "code",
      "source": [
        "resultados = pd.DataFrame(grid.cv_results_)\n",
        "resultados.filter(regex = '(param*|mean_t|std_t)') \\\n",
        "    .drop(columns = 'params') \\\n",
        "    .sort_values('mean_test_score', ascending = False) \\\n",
        "    .head(4)"
      ],
      "metadata": {
        "colab": {
          "base_uri": "https://localhost:8080/",
          "height": 175
        },
        "id": "eX63xU10t9Y6",
        "outputId": "42a85882-75cb-463d-8c77-16c11769f12f"
      },
      "execution_count": 64,
      "outputs": [
        {
          "output_type": "execute_result",
          "data": {
            "text/plain": [
              "   param_criterion param_max_depth param_max_features param_n_estimators  \\\n",
              "12         entropy            None                  5                150   \n",
              "21         entropy              20                  5                150   \n",
              "18         entropy              10                  5                150   \n",
              "6             gini              10                  5                150   \n",
              "\n",
              "    mean_test_score  std_test_score  mean_train_score  std_train_score  \n",
              "12         0.984545        0.011632               1.0              0.0  \n",
              "21         0.984545        0.011632               1.0              0.0  \n",
              "18         0.984545        0.011632               1.0              0.0  \n",
              "6          0.982893        0.011861               1.0              0.0  "
            ],
            "text/html": [
              "\n",
              "  <div id=\"df-a0c28b1a-fc54-447e-a465-b22d501c8f4b\">\n",
              "    <div class=\"colab-df-container\">\n",
              "      <div>\n",
              "<style scoped>\n",
              "    .dataframe tbody tr th:only-of-type {\n",
              "        vertical-align: middle;\n",
              "    }\n",
              "\n",
              "    .dataframe tbody tr th {\n",
              "        vertical-align: top;\n",
              "    }\n",
              "\n",
              "    .dataframe thead th {\n",
              "        text-align: right;\n",
              "    }\n",
              "</style>\n",
              "<table border=\"1\" class=\"dataframe\">\n",
              "  <thead>\n",
              "    <tr style=\"text-align: right;\">\n",
              "      <th></th>\n",
              "      <th>param_criterion</th>\n",
              "      <th>param_max_depth</th>\n",
              "      <th>param_max_features</th>\n",
              "      <th>param_n_estimators</th>\n",
              "      <th>mean_test_score</th>\n",
              "      <th>std_test_score</th>\n",
              "      <th>mean_train_score</th>\n",
              "      <th>std_train_score</th>\n",
              "    </tr>\n",
              "  </thead>\n",
              "  <tbody>\n",
              "    <tr>\n",
              "      <th>12</th>\n",
              "      <td>entropy</td>\n",
              "      <td>None</td>\n",
              "      <td>5</td>\n",
              "      <td>150</td>\n",
              "      <td>0.984545</td>\n",
              "      <td>0.011632</td>\n",
              "      <td>1.0</td>\n",
              "      <td>0.0</td>\n",
              "    </tr>\n",
              "    <tr>\n",
              "      <th>21</th>\n",
              "      <td>entropy</td>\n",
              "      <td>20</td>\n",
              "      <td>5</td>\n",
              "      <td>150</td>\n",
              "      <td>0.984545</td>\n",
              "      <td>0.011632</td>\n",
              "      <td>1.0</td>\n",
              "      <td>0.0</td>\n",
              "    </tr>\n",
              "    <tr>\n",
              "      <th>18</th>\n",
              "      <td>entropy</td>\n",
              "      <td>10</td>\n",
              "      <td>5</td>\n",
              "      <td>150</td>\n",
              "      <td>0.984545</td>\n",
              "      <td>0.011632</td>\n",
              "      <td>1.0</td>\n",
              "      <td>0.0</td>\n",
              "    </tr>\n",
              "    <tr>\n",
              "      <th>6</th>\n",
              "      <td>gini</td>\n",
              "      <td>10</td>\n",
              "      <td>5</td>\n",
              "      <td>150</td>\n",
              "      <td>0.982893</td>\n",
              "      <td>0.011861</td>\n",
              "      <td>1.0</td>\n",
              "      <td>0.0</td>\n",
              "    </tr>\n",
              "  </tbody>\n",
              "</table>\n",
              "</div>\n",
              "      <button class=\"colab-df-convert\" onclick=\"convertToInteractive('df-a0c28b1a-fc54-447e-a465-b22d501c8f4b')\"\n",
              "              title=\"Convert this dataframe to an interactive table.\"\n",
              "              style=\"display:none;\">\n",
              "        \n",
              "  <svg xmlns=\"http://www.w3.org/2000/svg\" height=\"24px\"viewBox=\"0 0 24 24\"\n",
              "       width=\"24px\">\n",
              "    <path d=\"M0 0h24v24H0V0z\" fill=\"none\"/>\n",
              "    <path d=\"M18.56 5.44l.94 2.06.94-2.06 2.06-.94-2.06-.94-.94-2.06-.94 2.06-2.06.94zm-11 1L8.5 8.5l.94-2.06 2.06-.94-2.06-.94L8.5 2.5l-.94 2.06-2.06.94zm10 10l.94 2.06.94-2.06 2.06-.94-2.06-.94-.94-2.06-.94 2.06-2.06.94z\"/><path d=\"M17.41 7.96l-1.37-1.37c-.4-.4-.92-.59-1.43-.59-.52 0-1.04.2-1.43.59L10.3 9.45l-7.72 7.72c-.78.78-.78 2.05 0 2.83L4 21.41c.39.39.9.59 1.41.59.51 0 1.02-.2 1.41-.59l7.78-7.78 2.81-2.81c.8-.78.8-2.07 0-2.86zM5.41 20L4 18.59l7.72-7.72 1.47 1.35L5.41 20z\"/>\n",
              "  </svg>\n",
              "      </button>\n",
              "      \n",
              "  <style>\n",
              "    .colab-df-container {\n",
              "      display:flex;\n",
              "      flex-wrap:wrap;\n",
              "      gap: 12px;\n",
              "    }\n",
              "\n",
              "    .colab-df-convert {\n",
              "      background-color: #E8F0FE;\n",
              "      border: none;\n",
              "      border-radius: 50%;\n",
              "      cursor: pointer;\n",
              "      display: none;\n",
              "      fill: #1967D2;\n",
              "      height: 32px;\n",
              "      padding: 0 0 0 0;\n",
              "      width: 32px;\n",
              "    }\n",
              "\n",
              "    .colab-df-convert:hover {\n",
              "      background-color: #E2EBFA;\n",
              "      box-shadow: 0px 1px 2px rgba(60, 64, 67, 0.3), 0px 1px 3px 1px rgba(60, 64, 67, 0.15);\n",
              "      fill: #174EA6;\n",
              "    }\n",
              "\n",
              "    [theme=dark] .colab-df-convert {\n",
              "      background-color: #3B4455;\n",
              "      fill: #D2E3FC;\n",
              "    }\n",
              "\n",
              "    [theme=dark] .colab-df-convert:hover {\n",
              "      background-color: #434B5C;\n",
              "      box-shadow: 0px 1px 3px 1px rgba(0, 0, 0, 0.15);\n",
              "      filter: drop-shadow(0px 1px 2px rgba(0, 0, 0, 0.3));\n",
              "      fill: #FFFFFF;\n",
              "    }\n",
              "  </style>\n",
              "\n",
              "      <script>\n",
              "        const buttonEl =\n",
              "          document.querySelector('#df-a0c28b1a-fc54-447e-a465-b22d501c8f4b button.colab-df-convert');\n",
              "        buttonEl.style.display =\n",
              "          google.colab.kernel.accessAllowed ? 'block' : 'none';\n",
              "\n",
              "        async function convertToInteractive(key) {\n",
              "          const element = document.querySelector('#df-a0c28b1a-fc54-447e-a465-b22d501c8f4b');\n",
              "          const dataTable =\n",
              "            await google.colab.kernel.invokeFunction('convertToInteractive',\n",
              "                                                     [key], {});\n",
              "          if (!dataTable) return;\n",
              "\n",
              "          const docLinkHtml = 'Like what you see? Visit the ' +\n",
              "            '<a target=\"_blank\" href=https://colab.research.google.com/notebooks/data_table.ipynb>data table notebook</a>'\n",
              "            + ' to learn more about interactive tables.';\n",
              "          element.innerHTML = '';\n",
              "          dataTable['output_type'] = 'display_data';\n",
              "          await google.colab.output.renderOutput(dataTable, element);\n",
              "          const docLink = document.createElement('div');\n",
              "          docLink.innerHTML = docLinkHtml;\n",
              "          element.appendChild(docLink);\n",
              "        }\n",
              "      </script>\n",
              "    </div>\n",
              "  </div>\n",
              "  "
            ]
          },
          "metadata": {},
          "execution_count": 64
        }
      ]
    },
    {
      "cell_type": "markdown",
      "source": [
        "**Reentrenamos nuestro modelo con los hiperparametros obtenidos.**"
      ],
      "metadata": {
        "id": "WZrwBfBIuWgd"
      }
    },
    {
      "cell_type": "code",
      "source": [
        "rf_clf_optim = RandomForestClassifier(max_depth=None, criterion='entropy', max_features=5, n_estimators=150, random_state=0)\n",
        "rf_clf_optim.fit(X_train, y_train)\n",
        "\n",
        "y_predict_rf_clf_optim = rf_clf_optim.predict(X_train)  #predecimos con el modelo optimizado"
      ],
      "metadata": {
        "id": "JW5EgIRPtBho"
      },
      "execution_count": 65,
      "outputs": []
    },
    {
      "cell_type": "code",
      "source": [
        "print('Accuracy: ', accuracy_score(y_train, y_predict_rf_clf_optim)) #sacamos las metricas del modelo optimizado\n",
        "print('ROC: ',roc_auc_score(y_train,y_predict_rf_clf_optim))\n",
        "print('F1: ', f1_score(y_train, y_predict_rf_clf_optim))"
      ],
      "metadata": {
        "colab": {
          "base_uri": "https://localhost:8080/"
        },
        "id": "uBHFoPxUuxu0",
        "outputId": "6425ba52-bd49-44db-9703-079c1674c846"
      },
      "execution_count": 66,
      "outputs": [
        {
          "output_type": "stream",
          "name": "stdout",
          "text": [
            "Accuracy:  1.0\n",
            "ROC:  1.0\n",
            "F1:  1.0\n"
          ]
        }
      ]
    },
    {
      "cell_type": "code",
      "source": [
        "from sklearn.metrics import confusion_matrix, ConfusionMatrixDisplay"
      ],
      "metadata": {
        "id": "r3kPjTu8goXw"
      },
      "execution_count": 67,
      "outputs": []
    },
    {
      "cell_type": "code",
      "source": [
        "confusion_matrix(y_train, y_predict_rf_clf_optim)"
      ],
      "metadata": {
        "colab": {
          "base_uri": "https://localhost:8080/"
        },
        "id": "BZQN-N89hTl1",
        "outputId": "3290abe0-2416-443f-d955-138f5e1796d6"
      },
      "execution_count": 68,
      "outputs": [
        {
          "output_type": "execute_result",
          "data": {
            "text/plain": [
              "array([[301,   0],\n",
              "       [  0, 302]])"
            ]
          },
          "metadata": {},
          "execution_count": 68
        }
      ]
    },
    {
      "cell_type": "code",
      "source": [
        "conf_matr = confusion_matrix(y_train, y_predict_rf_clf_optim, labels=rf_clf_optim.classes_)\n",
        "disp = ConfusionMatrixDisplay(confusion_matrix=conf_matr, display_labels=rf_clf_optim.classes_)\n",
        "disp.plot()\n",
        "plt.show()"
      ],
      "metadata": {
        "colab": {
          "base_uri": "https://localhost:8080/",
          "height": 282
        },
        "id": "eTTIYbVciWUW",
        "outputId": "e11eb586-d827-4325-e010-0b6350fb6bec"
      },
      "execution_count": 69,
      "outputs": [
        {
          "output_type": "display_data",
          "data": {
            "text/plain": [
              "<Figure size 432x288 with 2 Axes>"
            ],
            "image/png": "[encoded data removed]"
          },
          "metadata": {
            "needs_background": "light"
          }
        }
      ]
    },
    {
      "cell_type": "code",
      "source": [
        "from sklearn.metrics import RocCurveDisplay\n",
        "\n",
        "RocCurveDisplay.from_estimator(rf_clf_optim, X_train, y_train)"
      ],
      "metadata": {
        "colab": {
          "base_uri": "https://localhost:8080/",
          "height": 297
        },
        "id": "ApCUS4H9jSvl",
        "outputId": "ead31448-55d9-4dca-fe69-229ddd123070"
      },
      "execution_count": 70,
      "outputs": [
        {
          "output_type": "execute_result",
          "data": {
            "text/plain": [
              "<sklearn.metrics._plot.roc_curve.RocCurveDisplay at 0x7ff97abe2750>"
            ]
          },
          "metadata": {},
          "execution_count": 70
        },
        {
          "output_type": "display_data",
          "data": {
            "text/plain": [
              "<Figure size 432x288 with 1 Axes>"
            ],
            "image/png": "[encoded data removed]"
          },
          "metadata": {
            "needs_background": "light"
          }
        }
      ]
    },
    {
      "cell_type": "code",
      "source": [
        "from sklearn.metrics import PrecisionRecallDisplay"
      ],
      "metadata": {
        "id": "Bq_NPJ1ejz6g"
      },
      "execution_count": 71,
      "outputs": []
    },
    {
      "cell_type": "code",
      "source": [
        "disp = PrecisionRecallDisplay.from_estimator(rf_clf_optim, X_train, y_train)\n",
        "#_=display.ax_.set_title('2-Class Precision Recall Curve')\n",
        "\n",
        "plt.show()"
      ],
      "metadata": {
        "colab": {
          "base_uri": "https://localhost:8080/",
          "height": 279
        },
        "id": "hcz_KGyHkSdb",
        "outputId": "61231f62-b46e-432c-d508-bf7b7bc7594d"
      },
      "execution_count": 72,
      "outputs": [
        {
          "output_type": "display_data",
          "data": {
            "text/plain": [
              "<Figure size 432x288 with 1 Axes>"
            ],
            "image/png": "[encoded data removed]"
          },
          "metadata": {
            "needs_background": "light"
          }
        }
      ]
    },
    {
      "cell_type": "markdown",
      "source": [
        "**Ponemos el modelo en producción**"
      ],
      "metadata": {
        "id": "nQ85le6Ewaw9"
      }
    },
    {
      "cell_type": "code",
      "source": [
        "y_test_predict_rf_clf_optim = rf_clf_optim.predict(X_test)"
      ],
      "metadata": {
        "id": "0ohv0LMGwdyE"
      },
      "execution_count": 73,
      "outputs": []
    },
    {
      "cell_type": "code",
      "source": [
        "print('Accuracy: ', accuracy_score(y_test, y_test_predict_rf_clf_optim)) #sacamos las metricas del modelo optimizado\n",
        "print('ROC: ',roc_auc_score(y_test,y_test_predict_rf_clf_optim))\n",
        "print('F1: ', f1_score(y_test, y_test_predict_rf_clf_optim))"
      ],
      "metadata": {
        "colab": {
          "base_uri": "https://localhost:8080/"
        },
        "id": "qvWnTB9mwVNL",
        "outputId": "9a897f6f-92a9-489c-face-5eb5d429d81b"
      },
      "execution_count": 74,
      "outputs": [
        {
          "output_type": "stream",
          "name": "stdout",
          "text": [
            "Accuracy:  0.9668874172185431\n",
            "ROC:  0.9670175438596492\n",
            "F1:  0.9673202614379085\n"
          ]
        }
      ]
    },
    {
      "cell_type": "code",
      "source": [
        "from sklearn.metrics import recall_score"
      ],
      "metadata": {
        "id": "QKEpQ6faQ915"
      },
      "execution_count": 75,
      "outputs": []
    },
    {
      "cell_type": "code",
      "source": [
        "print('Recall score: ', recall_score(y_test,y_test_predict_rf_clf_optim, average=None))"
      ],
      "metadata": {
        "colab": {
          "base_uri": "https://localhost:8080/"
        },
        "id": "ZNddF832W2Ey",
        "outputId": "5770e5cc-4542-4b02-bc02-30324ddb55c0"
      },
      "execution_count": 76,
      "outputs": [
        {
          "output_type": "stream",
          "name": "stdout",
          "text": [
            "Recall score:  [0.94736842 0.98666667]\n"
          ]
        }
      ]
    },
    {
      "cell_type": "code",
      "source": [
        "confusion_matrix(y_test, y_test_predict_rf_clf_optim)"
      ],
      "metadata": {
        "colab": {
          "base_uri": "https://localhost:8080/"
        },
        "outputId": "b3914ecf-daab-4358-aa9e-c0eb7a8bc89b",
        "id": "DuPCrRPVm9_5"
      },
      "execution_count": 77,
      "outputs": [
        {
          "output_type": "execute_result",
          "data": {
            "text/plain": [
              "array([[72,  4],\n",
              "       [ 1, 74]])"
            ]
          },
          "metadata": {},
          "execution_count": 77
        }
      ]
    },
    {
      "cell_type": "code",
      "source": [
        "conf_matr = confusion_matrix(y_test, y_test_predict_rf_clf_optim, labels=rf_clf_optim.classes_)\n",
        "disp = ConfusionMatrixDisplay(confusion_matrix=conf_matr, display_labels=rf_clf_optim.classes_)\n",
        "disp.plot()\n",
        "plt.show()"
      ],
      "metadata": {
        "colab": {
          "base_uri": "https://localhost:8080/",
          "height": 279
        },
        "outputId": "3a73ae21-1e8d-4025-bf85-92f91be9154d",
        "id": "Uo0bQtI5m9_6"
      },
      "execution_count": 78,
      "outputs": [
        {
          "output_type": "display_data",
          "data": {
            "text/plain": [
              "<Figure size 432x288 with 2 Axes>"
            ],
            "image/png": "[encoded data removed]"
          },
          "metadata": {
            "needs_background": "light"
          }
        }
      ]
    },
    {
      "cell_type": "code",
      "source": [
        "RocCurveDisplay.from_estimator(rf_clf_optim, X_test, y_test)"
      ],
      "metadata": {
        "colab": {
          "base_uri": "https://localhost:8080/",
          "height": 297
        },
        "id": "7_mi_WaynlKn",
        "outputId": "c016063b-1d7c-405c-b4ef-92601e337215"
      },
      "execution_count": 79,
      "outputs": [
        {
          "output_type": "execute_result",
          "data": {
            "text/plain": [
              "<sklearn.metrics._plot.roc_curve.RocCurveDisplay at 0x7ff97aacc0d0>"
            ]
          },
          "metadata": {},
          "execution_count": 79
        },
        {
          "output_type": "display_data",
          "data": {
            "text/plain": [
              "<Figure size 432x288 with 1 Axes>"
            ],
            "image/png": "[encoded data removed]"
          },
          "metadata": {
            "needs_background": "light"
          }
        }
      ]
    },
    {
      "cell_type": "code",
      "source": [
        "disp = PrecisionRecallDisplay.from_estimator(rf_clf_optim, X_test, y_test)\n",
        "#_=display.ax_.set_title('2-Class Precision Recall Curve')\n",
        "\n",
        "plt.show()"
      ],
      "metadata": {
        "colab": {
          "base_uri": "https://localhost:8080/",
          "height": 279
        },
        "outputId": "a6d6b96b-36df-4d1d-9f36-8c6bebd25e97",
        "id": "46iTgDmumKAX"
      },
      "execution_count": 80,
      "outputs": [
        {
          "output_type": "display_data",
          "data": {
            "text/plain": [
              "<Figure size 432x288 with 1 Axes>"
            ],
            "image/png": "[encoded data removed]"
          },
          "metadata": {
            "needs_background": "light"
          }
        }
      ]
    },
    {
      "cell_type": "code",
      "source": [
        "#Iguala la variable modelo_definitivo al clasificador que cumpla las exigencias de superar el 0.95 en la puntuacion y las metricas.\n",
        "\n",
        "modelo_definitivo=rf_clf_optim"
      ],
      "metadata": {
        "id": "R1LfAWhXDApe"
      },
      "execution_count": 81,
      "outputs": []
    },
    {
      "cell_type": "markdown",
      "source": [
        "Conclusión: en el modelo de Random Forest despues de optimizar sus hiperparametros hemos obtenido los mejores resultados (superamos el umbral de 0.95 en todas las metricas.  \n",
        "    Accuracy:  0.9668874172185431  \n",
        "    ROC:  0.9670175438596492  \n",
        "    F1: 0.9673202614379085"
      ],
      "metadata": {
        "id": "nk5Pfs_qcvyL"
      }
    }
  ]
}